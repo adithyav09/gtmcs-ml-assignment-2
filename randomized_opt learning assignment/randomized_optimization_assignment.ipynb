{
 "cells": [
  {
   "cell_type": "markdown",
   "id": "5ef76834-aea1-4e42-aef7-38d1ba7dce9e",
   "metadata": {},
   "source": [
    "# Randomized Optimization Assignment #2\n",
    "---\n",
    "\n",
    "## Requirements:\n",
    "- Give a thorough analysis of your findings\n",
    "- Program in any language desired (Python in this case)\n",
    "- Must provide any files in README.txt to ensure reproducibility and support explanations to any changes\n",
    "\n",
    "Acceptable libraries for machine learning are scikit-learn, tensorflow, pytorch. For python are numpy and scipy. For plotting are matplotlib and seaborn.\n",
    "\n",
    "#### Algorithms to implement\n",
    "- randomized hill climbing\n",
    "- simulated annealing\n",
    "- a genetic algorithm\n",
    "- MIMIC\n",
    "\n",
    "#### Organization Problems:\n",
    "- FlipFlop\n",
    "- OneMax\n",
    "- Queens\n",
    "\n",
    "#### Must submit\n",
    "1. a file named **README.txt** containing instructions for running your code (see note below). You will want to arrange for an URL of some sort for code in the file.\n",
    "2. a file named **yourgtaccount-analysis.pdf** containing your writeup (GT account is what you log in with, not your all-digits ID)\n",
    "---"
   ]
  },
  {
   "cell_type": "code",
   "execution_count": 1,
   "id": "68a586d9-22db-453c-aa15-069ae3226b97",
   "metadata": {},
   "outputs": [],
   "source": [
    "# import dependencies\n",
    "import numpy as np\n",
    "import sklearn\n",
    "import seaborn\n",
    "import six\n",
    "import sys\n",
    "sys.modules['sklearn.externals.six'] = six\n",
    "import mlrose\n",
    "import mlrose_hiive\n",
    "import time\n",
    "import pandas as pd\n",
    "import matplotlib.pyplot as plt\n",
    "import seaborn as sns\n",
    "import itertools\n",
    "\n",
    "\n",
    "# to divide train and test set\n",
    "from sklearn.model_selection import train_test_split"
   ]
  },
  {
   "cell_type": "markdown",
   "id": "a7436567-078a-4bd4-992a-39003fcbdc56",
   "metadata": {},
   "source": [
    "#### Hyperparameters\n",
    "- [Fitness Functions](https://mlrose.readthedocs.io/en/stable/source/fitness.html?highlight=fitness) for FlipFlop, OneMax, Queens\n",
    "    - **FlipFlop**: Evaluates the fitness of a state vector x as the total number of pairs of consecutive elements of x, (x_{i} and x_{i+1}) where x_{i} \\neq x_{i+1}.\n",
    "    - **OneMax**: Fitness function for One Max optimization problem. Evaluates the fitness of an n-dimensional state vector x = [x_{0}, x_{1}, \\ldots, x_{n-1}] as: Fitness(x) = \\sum_{i = 0}^{n-1}x_{i}\n",
    "    - **Four Peaks**: "
   ]
  },
  {
   "cell_type": "code",
   "execution_count": 2,
   "id": "87ebdc92-a42f-44d0-aa5e-ebb7f3846a89",
   "metadata": {},
   "outputs": [],
   "source": [
    "# hyperparameters\n",
    "fitness_functions_list = {\n",
    "    \"Flip-Flop\": mlrose.FlipFlop(),\n",
    "    \"One Max\": mlrose.OneMax(), \n",
    "    \"Four Peaks\": mlrose.FourPeaks()\n",
    "}"
   ]
  },
  {
   "cell_type": "code",
   "execution_count": 3,
   "id": "ba83e532-522d-45c7-852a-d9499be9efaf",
   "metadata": {},
   "outputs": [],
   "source": [
    "# restart parameter tests\n",
    "restarts_list = [0,15,30,45,50,65,80,95]"
   ]
  },
  {
   "cell_type": "markdown",
   "id": "bcc74472-f65a-4ff9-b2a8-1c6cc6163e03",
   "metadata": {
    "tags": []
   },
   "source": [
    "### Random Hill Climbing"
   ]
  },
  {
   "cell_type": "code",
   "execution_count": 4,
   "id": "535f30bd-ee4e-4f1e-9d06-024e1978a015",
   "metadata": {},
   "outputs": [],
   "source": [
    "def train_random_hill_climbing(fitness_functions_list, restarts_values):\n",
    "    \n",
    "    # store the best values in the dictionary\n",
    "    best_fitness_dict = {}\n",
    "    \n",
    "    # inital best parameter and fitness values are not defined yet\n",
    "    best_param = None\n",
    "    best_fitness = None\n",
    "\n",
    "    # iterate through the fitness functions OneMax, FlipFlop, and Queens\n",
    "    for fitness_function_name, fitness_function in fitness_functions_list.items():\n",
    "        print(f\"Tuning Random Hill Climbing algorithm: {fitness_function_name}\")\n",
    "\n",
    "        # iterate through the restart values to input into hyper param\n",
    "        for restart in restarts_values:\n",
    "\n",
    "            # discrete optimization method to implement\n",
    "            problem = mlrose_hiive.DiscreteOpt(length=100, fitness_fn=fitness_function, maximize=True,max_val = 8)\n",
    "\n",
    "            # train the algorithm\n",
    "            rhc_best_state, rhc_best_fitness, rhc_fitness_curve = mlrose_hiive.random_hill_climb(\n",
    "                problem,\n",
    "                max_attempts=100, #should be either between 10 - 1000\n",
    "                max_iters=100, \n",
    "                restarts=restart,\n",
    "                init_state=None, #should be either init_state or None\n",
    "                curve=True,\n",
    "                random_state=10\n",
    "            )\n",
    "        \n",
    "        # evaluate the best_fitness and fitness_value\n",
    "        if best_fitness is None:\n",
    "            best_param = restart\n",
    "            best_fitness = rhc_best_fitness\n",
    "        \n",
    "        elif rhc_best_fitness > best_fitness:\n",
    "            best_param = restart\n",
    "            best_fitness = rhc_best_fitness\n",
    "        \n",
    "        print(\"...\")\n",
    "        \n",
    "        print(f\"These are the best Random Hill Climbing parameters for {fitness_function_name} = {str(best_param)}\")\n",
    "        \n",
    "        best_fitness_dict[fitness_function_name] = best_param\n",
    "        \n",
    "        print(\"\")\n",
    "        print(\"\")\n",
    "    \n",
    "    print(\"Best parameters: \")\n",
    "    return best_fitness_dict\n",
    "        # we want to output the best values for each of the hyper parameters that are used for each fitness function"
   ]
  },
  {
   "cell_type": "code",
   "execution_count": 5,
   "id": "d2b2d944-c8f7-4252-b60a-678b2a5ca021",
   "metadata": {},
   "outputs": [
    {
     "name": "stdout",
     "output_type": "stream",
     "text": [
      "Tuning Random Hill Climbing algorithm: Flip-Flop\n",
      "...\n",
      "These are the best Random Hill Climbing parameters for Flip-Flop = 95\n",
      "\n",
      "\n",
      "Tuning Random Hill Climbing algorithm: One Max\n",
      "...\n",
      "These are the best Random Hill Climbing parameters for One Max = 95\n",
      "\n",
      "\n",
      "Tuning Random Hill Climbing algorithm: Four Peaks\n",
      "...\n",
      "These are the best Random Hill Climbing parameters for Four Peaks = 95\n",
      "\n",
      "\n",
      "Best parameters: \n"
     ]
    },
    {
     "data": {
      "text/plain": [
       "{'Flip-Flop': 95, 'One Max': 95, 'Four Peaks': 95}"
      ]
     },
     "execution_count": 5,
     "metadata": {},
     "output_type": "execute_result"
    }
   ],
   "source": [
    "train_random_hill_climbing(fitness_functions_list, restarts_list)"
   ]
  },
  {
   "cell_type": "code",
   "execution_count": 6,
   "id": "5acc1517-38d3-4748-80e3-a4de66968b78",
   "metadata": {},
   "outputs": [],
   "source": [
    "# init_temp, decay, min_temp\n",
    "sa_hyperparams = [\n",
    "   [1, 4, 8, 16, 32, 64, 128],\n",
    "   [0.1, 0.2, 0.4, 0.8],\n",
    "   [0.001, 0.01, 0.1, 1]\n",
    "]"
   ]
  },
  {
   "cell_type": "markdown",
   "id": "f573a00d-6aae-4def-afa8-479ca8a1b3df",
   "metadata": {},
   "source": [
    "### Simulated Annealing"
   ]
  },
  {
   "cell_type": "code",
   "execution_count": 7,
   "id": "dd44c164-fde1-429c-b8fd-3d03280370c4",
   "metadata": {},
   "outputs": [],
   "source": [
    "def train_simulated_annealing(fitness_functions_list, simulated_annealing_hyperparams):\n",
    "    \n",
    "    # store the best values in the dictionary\n",
    "    best_fitness_dict = {}\n",
    "    \n",
    "    # inital best parameter and fitness values are not defined yet\n",
    "    best_params = None\n",
    "    best_fitness = None\n",
    "\n",
    "    # iterate through the fitness functions OneMax, FlipFlop, and Queens\n",
    "    for fitness_function_name, fitness_function in fitness_functions_list.items():\n",
    "        print(f\"Tuning Simulated Annealing algorithm: {fitness_function_name}\")\n",
    "\n",
    "        # iterate through the hyperparameter values to input into function\n",
    "        for hyperparams in itertools.product(*simulated_annealing_hyperparams):\n",
    "\n",
    "            # discrete optimization method to implement\n",
    "            problem = mlrose_hiive.DiscreteOpt(length=100, fitness_fn=fitness_function, maximize=True)\n",
    "\n",
    "            # decay algorithm (access the hyperparams by indexing elements)\n",
    "            decay = mlrose_hiive.GeomDecay(init_temp = hyperparams[0], decay=hyperparams[1], min_temp=hyperparams[2])\n",
    "\n",
    "            # train the algorithm\n",
    "            sa_best_state, sa_best_fitness, sa_fitness_curve = mlrose_hiive.simulated_annealing(\n",
    "                                                                                            problem,\n",
    "                                                                                            max_attempts=100,\n",
    "                                                                                            max_iters=100, \n",
    "                                                                                            curve=True, \n",
    "                                                                                            random_state=10,\n",
    "                                                                                            schedule=decay)\n",
    "\n",
    "            # evaluate the best_fitness and fitness_value\n",
    "            if best_fitness is None:\n",
    "                best_params = hyperparams\n",
    "                best_fitness = sa_best_fitness\n",
    "            \n",
    "            elif sa_best_fitness > best_fitness:\n",
    "                best_params = hyperparams\n",
    "                best_fitness = sa_best_fitness\n",
    "                \n",
    "        print(\"...\")\n",
    "\n",
    "        print(f\"These are the best Simulated Annealing parameters for {fitness_function_name} = {str(best_params)}\")\n",
    "\n",
    "        best_fitness_dict[fitness_function_name] = best_params\n",
    "\n",
    "        print(\"\")\n",
    "        print(\"\")\n",
    "    \n",
    "    print(\"Best parameters: \")\n",
    "    return best_fitness_dict"
   ]
  },
  {
   "cell_type": "code",
   "execution_count": 8,
   "id": "b2afeeb5-023e-46e8-93ed-1ee336d854c4",
   "metadata": {},
   "outputs": [
    {
     "name": "stdout",
     "output_type": "stream",
     "text": [
      "Tuning Simulated Annealing algorithm: Flip-Flop\n",
      "...\n",
      "These are the best Simulated Annealing parameters for Flip-Flop = (1, 0.1, 0.001)\n",
      "\n",
      "\n",
      "Tuning Simulated Annealing algorithm: One Max\n",
      "...\n",
      "These are the best Simulated Annealing parameters for One Max = (1, 0.1, 0.001)\n",
      "\n",
      "\n",
      "Tuning Simulated Annealing algorithm: Four Peaks\n",
      "...\n",
      "These are the best Simulated Annealing parameters for Four Peaks = (1, 0.1, 0.001)\n",
      "\n",
      "\n",
      "Best parameters: \n"
     ]
    },
    {
     "data": {
      "text/plain": [
       "{'Flip-Flop': (1, 0.1, 0.001),\n",
       " 'One Max': (1, 0.1, 0.001),\n",
       " 'Four Peaks': (1, 0.1, 0.001)}"
      ]
     },
     "execution_count": 8,
     "metadata": {},
     "output_type": "execute_result"
    }
   ],
   "source": [
    "# test call\n",
    "train_simulated_annealing(fitness_functions_list, sa_hyperparams)"
   ]
  },
  {
   "cell_type": "code",
   "execution_count": 9,
   "id": "8cfc9780-147f-4ee8-b9dc-bc8f359a30fa",
   "metadata": {},
   "outputs": [],
   "source": [
    "# init_temp, decay, min_temp\n",
    "ga_hyperparams = [\n",
    "   [100, 200, 400],\n",
    "   [0.2, 0.4, 0.8]\n",
    "]"
   ]
  },
  {
   "cell_type": "markdown",
   "id": "ffb9fa06-a5f6-4927-9848-66bb7cf78d01",
   "metadata": {},
   "source": [
    "### Genetic Algorithms"
   ]
  },
  {
   "cell_type": "code",
   "execution_count": 10,
   "id": "9c1748ca-404b-4859-8d92-4f9319653c35",
   "metadata": {},
   "outputs": [],
   "source": [
    "# inital best parameter and fitness values are not defined yet\n",
    "def train_genetic_algorithms(fitness_functions_list, genetic_algorithms_hyperparams):\n",
    "    \n",
    "    # store the best values in the dictionary\n",
    "    best_fitness_dict = {}\n",
    "    \n",
    "    best_params = None\n",
    "    best_fitness = None\n",
    "\n",
    "    # iterate through the fitness functions OneMax, FlipFlop, and Queens\n",
    "    for fitness_function_name, fitness_function in fitness_functions_list.items():\n",
    "        print(f\"Tuning Genetic algorithm: {fitness_function_name}\")\n",
    "\n",
    "        # iterate through the hyperparameter values to input into function\n",
    "        for hyperparams in itertools.product(*genetic_algorithms_hyperparams):\n",
    "            problem = mlrose_hiive.DiscreteOpt(length=100, fitness_fn=fitness_function, maximize=True)\n",
    "            \n",
    "            # train the algorithm\n",
    "            ga_best_state, ga_best_fitness, ga_fitness_curve = mlrose_hiive.genetic_alg(\n",
    "                                                                                        problem, \n",
    "                                                                                        max_attempts=100, \n",
    "                                                                                        max_iters=100, \n",
    "                                                                                        curve=True, \n",
    "                                                                                        random_state=10,\n",
    "                                                                                        pop_size=hyperparams[0],\n",
    "                                                                                        mutation_prob=hyperparams[1])\n",
    "\n",
    "\n",
    "            # evaluate the best_fitness and fitness_value\n",
    "            if best_fitness is None:\n",
    "                best_params = hyperparams\n",
    "                best_fitness = ga_best_fitness\n",
    "                \n",
    "            elif ga_best_fitness > best_fitness:\n",
    "                best_params = hyperparams\n",
    "                best_fitness = ga_best_fitness\n",
    "        \n",
    "        \n",
    "        print(\"...\")\n",
    "        \n",
    "        print(f\"These are the best Simulated Annealing parameters for {fitness_function_name} = {str(best_params)}\")\n",
    "        \n",
    "        best_fitness_dict[fitness_function_name] = best_params\n",
    "\n",
    "        print(\"\")\n",
    "        print(\"\")\n",
    "    \n",
    "    print(\"Best parameters: \")\n",
    "    return best_fitness_dict"
   ]
  },
  {
   "cell_type": "code",
   "execution_count": 11,
   "id": "3ccb1578-4ac8-48f6-88cb-50acf7cf4507",
   "metadata": {},
   "outputs": [
    {
     "name": "stdout",
     "output_type": "stream",
     "text": [
      "Tuning Genetic algorithm: Flip-Flop\n",
      "...\n",
      "These are the best Simulated Annealing parameters for Flip-Flop = (400, 0.4)\n",
      "\n",
      "\n",
      "Tuning Genetic algorithm: One Max\n",
      "...\n",
      "These are the best Simulated Annealing parameters for One Max = (100, 0.2)\n",
      "\n",
      "\n",
      "Tuning Genetic algorithm: Four Peaks\n",
      "...\n",
      "These are the best Simulated Annealing parameters for Four Peaks = (200, 0.2)\n",
      "\n",
      "\n",
      "Best parameters: \n"
     ]
    },
    {
     "data": {
      "text/plain": [
       "{'Flip-Flop': (400, 0.4), 'One Max': (100, 0.2), 'Four Peaks': (200, 0.2)}"
      ]
     },
     "execution_count": 11,
     "metadata": {},
     "output_type": "execute_result"
    }
   ],
   "source": [
    "train_genetic_algorithms(fitness_functions_list, ga_hyperparams)"
   ]
  },
  {
   "cell_type": "code",
   "execution_count": 12,
   "id": "e6bcc257-0b64-446b-81b2-db48f282a84f",
   "metadata": {},
   "outputs": [],
   "source": [
    "mm_params = [\n",
    "    [0.25, 0.5, 0.75]\n",
    "]"
   ]
  },
  {
   "cell_type": "markdown",
   "id": "e9532e5b-a1ac-4810-8f08-563698c930e5",
   "metadata": {},
   "source": [
    "### MIMIC Algorithm"
   ]
  },
  {
   "cell_type": "code",
   "execution_count": 15,
   "id": "8df2138a-a703-4c8d-893a-a347afe13dd9",
   "metadata": {},
   "outputs": [],
   "source": [
    "# MIMIC Tuning\n",
    "def train_mimic_algorithms(fitness_functions_list, mimic_algorithms_hyperparam):\n",
    "    \n",
    "    # store the best values in the dictionary\n",
    "    best_fitness_dict = {}\n",
    "    \n",
    "    best_params = None\n",
    "    best_fitness = None\n",
    "\n",
    "    # iterate through the fitness functions OneMax, FlipFlop, and Queens\n",
    "    for fitness_function_name, fitness_function in fitness_functions_list.items():\n",
    "        print(f\"Tuning MIMIC algorithm: {fitness_function_name}\")\n",
    "\n",
    "        # iterate through the hyperparameter values to input into function\n",
    "        for hyperparams in itertools.product(*mimic_algorithms_hyperparam):\n",
    "            problem = mlrose_hiive.DiscreteOpt(length=100, fitness_fn=fitness_function, maximize=True)\n",
    "            \n",
    "            # train the algorithm\n",
    "            mimic_best_state, mimic_best_fitness, mimic_fitness_curve = mlrose_hiive.mimic(\n",
    "                                                                                            problem, \n",
    "                                                                                            max_attempts = 100, \n",
    "                                                                                            max_iters = 100,  \n",
    "                                                                                            curve = True,\n",
    "                                                                                            keep_pct = hyperparams[0],\n",
    "                                                                                            random_state = 10\n",
    "            )\n",
    "\n",
    "            # evaluate the best_fitness and fitness_value\n",
    "            if best_fitness is None:\n",
    "                best_params = hyperparams\n",
    "                best_fitness = mimic_best_fitness\n",
    "            \n",
    "            elif mimic_best_fitness > best_fitness:\n",
    "                best_params = hyperparams\n",
    "                best_fitness = mimic_best_fitness\n",
    "        \n",
    "        print(\"...\")\n",
    "        \n",
    "        print(f\"These are the best MIMIMC parameters for {fitness_function_name} = {str(best_params)}\")\n",
    "        \n",
    "        best_fitness_dict[fitness_function_name] = best_params\n",
    "\n",
    "        print(\"\")\n",
    "        print(\"\")\n",
    "    \n",
    "    print(\"Best parameters: \")\n",
    "    return best_fitness_dict"
   ]
  },
  {
   "cell_type": "code",
   "execution_count": 16,
   "id": "e87f53ec-034c-486d-9941-746ef02c4311",
   "metadata": {},
   "outputs": [
    {
     "name": "stdout",
     "output_type": "stream",
     "text": [
      "Tuning MIMIC algorithm: Flip-Flop\n",
      "...\n",
      "These are the best MIMIMC parameters for Flip-Flop = (0.5, 300)\n",
      "\n",
      "\n",
      "Tuning MIMIC algorithm: One Max\n",
      "...\n",
      "These are the best MIMIMC parameters for One Max = (0.25, 200)\n",
      "\n",
      "\n",
      "Tuning MIMIC algorithm: Four Peaks\n"
     ]
    },
    {
     "ename": "KeyboardInterrupt",
     "evalue": "",
     "output_type": "error",
     "traceback": [
      "\u001b[0;31m---------------------------------------------------------------------------\u001b[0m",
      "\u001b[0;31mKeyboardInterrupt\u001b[0m                         Traceback (most recent call last)",
      "\u001b[0;32m/var/folders/0z/b69fyzzx0s57g_69wvxdmk1m0000gn/T/ipykernel_27265/1411566610.py\u001b[0m in \u001b[0;36m<module>\u001b[0;34m\u001b[0m\n\u001b[0;32m----> 1\u001b[0;31m \u001b[0mtrain_mimic_algorithms\u001b[0m\u001b[0;34m(\u001b[0m\u001b[0mfitness_functions_list\u001b[0m\u001b[0;34m,\u001b[0m \u001b[0mmm_params\u001b[0m\u001b[0;34m)\u001b[0m\u001b[0;34m\u001b[0m\u001b[0;34m\u001b[0m\u001b[0m\n\u001b[0m",
      "\u001b[0;32m/var/folders/0z/b69fyzzx0s57g_69wvxdmk1m0000gn/T/ipykernel_27265/2649559202.py\u001b[0m in \u001b[0;36mtrain_mimic_algorithms\u001b[0;34m(fitness_functions_list, mimic_algorithms_hyperparam)\u001b[0m\n\u001b[1;32m     17\u001b[0m \u001b[0;34m\u001b[0m\u001b[0m\n\u001b[1;32m     18\u001b[0m             \u001b[0;31m# train the algorithm\u001b[0m\u001b[0;34m\u001b[0m\u001b[0;34m\u001b[0m\u001b[0m\n\u001b[0;32m---> 19\u001b[0;31m             mimic_best_state, mimic_best_fitness, mimic_fitness_curve = mlrose_hiive.mimic(\n\u001b[0m\u001b[1;32m     20\u001b[0m                                                                                             \u001b[0mproblem\u001b[0m\u001b[0;34m,\u001b[0m\u001b[0;34m\u001b[0m\u001b[0;34m\u001b[0m\u001b[0m\n\u001b[1;32m     21\u001b[0m                                                                                             \u001b[0mmax_attempts\u001b[0m \u001b[0;34m=\u001b[0m \u001b[0;36m100\u001b[0m\u001b[0;34m,\u001b[0m\u001b[0;34m\u001b[0m\u001b[0;34m\u001b[0m\u001b[0m\n",
      "\u001b[0;32m~/opt/anaconda3/lib/python3.9/site-packages/mlrose_hiive/algorithms/mimic.py\u001b[0m in \u001b[0;36mmimic\u001b[0;34m(problem, pop_size, keep_pct, max_attempts, max_iters, curve, random_state, state_fitness_callback, callback_user_info, noise)\u001b[0m\n\u001b[1;32m    117\u001b[0m \u001b[0;34m\u001b[0m\u001b[0m\n\u001b[1;32m    118\u001b[0m         \u001b[0;31m# Update probability estimates\u001b[0m\u001b[0;34m\u001b[0m\u001b[0;34m\u001b[0m\u001b[0m\n\u001b[0;32m--> 119\u001b[0;31m         \u001b[0mproblem\u001b[0m\u001b[0;34m.\u001b[0m\u001b[0meval_node_probs\u001b[0m\u001b[0;34m(\u001b[0m\u001b[0;34m)\u001b[0m\u001b[0;34m\u001b[0m\u001b[0;34m\u001b[0m\u001b[0m\n\u001b[0m\u001b[1;32m    120\u001b[0m \u001b[0;34m\u001b[0m\u001b[0m\n\u001b[1;32m    121\u001b[0m         \u001b[0;31m# Generate new sample\u001b[0m\u001b[0;34m\u001b[0m\u001b[0;34m\u001b[0m\u001b[0m\n",
      "\u001b[0;32m~/opt/anaconda3/lib/python3.9/site-packages/mlrose_hiive/opt_probs/discrete_opt.py\u001b[0m in \u001b[0;36meval_node_probs\u001b[0;34m(self)\u001b[0m\n\u001b[1;32m     75\u001b[0m         \"\"\"\n\u001b[1;32m     76\u001b[0m         \u001b[0;31m# Create mutual info matrix\u001b[0m\u001b[0;34m\u001b[0m\u001b[0;34m\u001b[0m\u001b[0m\n\u001b[0;32m---> 77\u001b[0;31m         \u001b[0mmutual_info\u001b[0m \u001b[0;34m=\u001b[0m \u001b[0mself\u001b[0m\u001b[0;34m.\u001b[0m\u001b[0m_get_mutual_info_impl\u001b[0m\u001b[0;34m(\u001b[0m\u001b[0;34m)\u001b[0m\u001b[0;34m\u001b[0m\u001b[0;34m\u001b[0m\u001b[0m\n\u001b[0m\u001b[1;32m     78\u001b[0m \u001b[0;34m\u001b[0m\u001b[0m\n\u001b[1;32m     79\u001b[0m         \u001b[0;31m# Find minimum spanning tree of mutual info matrix\u001b[0m\u001b[0;34m\u001b[0m\u001b[0;34m\u001b[0m\u001b[0m\n",
      "\u001b[0;32m~/opt/anaconda3/lib/python3.9/site-packages/mlrose_hiive/opt_probs/discrete_opt.py\u001b[0m in \u001b[0;36m_get_mutual_info_slow\u001b[0;34m(self)\u001b[0m\n\u001b[1;32m    144\u001b[0m         \u001b[0;32mfor\u001b[0m \u001b[0mi\u001b[0m \u001b[0;32min\u001b[0m \u001b[0mrange\u001b[0m\u001b[0;34m(\u001b[0m\u001b[0mself\u001b[0m\u001b[0;34m.\u001b[0m\u001b[0mlength\u001b[0m \u001b[0;34m-\u001b[0m \u001b[0;36m1\u001b[0m\u001b[0;34m)\u001b[0m\u001b[0;34m:\u001b[0m\u001b[0;34m\u001b[0m\u001b[0;34m\u001b[0m\u001b[0m\n\u001b[1;32m    145\u001b[0m             \u001b[0;32mfor\u001b[0m \u001b[0mj\u001b[0m \u001b[0;32min\u001b[0m \u001b[0mrange\u001b[0m\u001b[0;34m(\u001b[0m\u001b[0mi\u001b[0m \u001b[0;34m+\u001b[0m \u001b[0;36m1\u001b[0m\u001b[0;34m,\u001b[0m \u001b[0mself\u001b[0m\u001b[0;34m.\u001b[0m\u001b[0mlength\u001b[0m\u001b[0;34m)\u001b[0m\u001b[0;34m:\u001b[0m\u001b[0;34m\u001b[0m\u001b[0;34m\u001b[0m\u001b[0m\n\u001b[0;32m--> 146\u001b[0;31m                 mutual_info[i, j] = -1 * mutual_info_score(\n\u001b[0m\u001b[1;32m    147\u001b[0m                     \u001b[0mself\u001b[0m\u001b[0;34m.\u001b[0m\u001b[0mkeep_sample\u001b[0m\u001b[0;34m[\u001b[0m\u001b[0;34m:\u001b[0m\u001b[0;34m,\u001b[0m \u001b[0mi\u001b[0m\u001b[0;34m]\u001b[0m\u001b[0;34m,\u001b[0m\u001b[0;34m\u001b[0m\u001b[0;34m\u001b[0m\u001b[0m\n\u001b[1;32m    148\u001b[0m                     self.keep_sample[:, j])\n",
      "\u001b[0;32m~/opt/anaconda3/lib/python3.9/site-packages/sklearn/utils/validation.py\u001b[0m in \u001b[0;36minner_f\u001b[0;34m(*args, **kwargs)\u001b[0m\n\u001b[1;32m     61\u001b[0m             \u001b[0mextra_args\u001b[0m \u001b[0;34m=\u001b[0m \u001b[0mlen\u001b[0m\u001b[0;34m(\u001b[0m\u001b[0margs\u001b[0m\u001b[0;34m)\u001b[0m \u001b[0;34m-\u001b[0m \u001b[0mlen\u001b[0m\u001b[0;34m(\u001b[0m\u001b[0mall_args\u001b[0m\u001b[0;34m)\u001b[0m\u001b[0;34m\u001b[0m\u001b[0;34m\u001b[0m\u001b[0m\n\u001b[1;32m     62\u001b[0m             \u001b[0;32mif\u001b[0m \u001b[0mextra_args\u001b[0m \u001b[0;34m<=\u001b[0m \u001b[0;36m0\u001b[0m\u001b[0;34m:\u001b[0m\u001b[0;34m\u001b[0m\u001b[0;34m\u001b[0m\u001b[0m\n\u001b[0;32m---> 63\u001b[0;31m                 \u001b[0;32mreturn\u001b[0m \u001b[0mf\u001b[0m\u001b[0;34m(\u001b[0m\u001b[0;34m*\u001b[0m\u001b[0margs\u001b[0m\u001b[0;34m,\u001b[0m \u001b[0;34m**\u001b[0m\u001b[0mkwargs\u001b[0m\u001b[0;34m)\u001b[0m\u001b[0;34m\u001b[0m\u001b[0;34m\u001b[0m\u001b[0m\n\u001b[0m\u001b[1;32m     64\u001b[0m \u001b[0;34m\u001b[0m\u001b[0m\n\u001b[1;32m     65\u001b[0m             \u001b[0;31m# extra_args > 0\u001b[0m\u001b[0;34m\u001b[0m\u001b[0;34m\u001b[0m\u001b[0m\n",
      "\u001b[0;32m~/opt/anaconda3/lib/python3.9/site-packages/sklearn/metrics/cluster/_supervised.py\u001b[0m in \u001b[0;36mmutual_info_score\u001b[0;34m(labels_true, labels_pred, contingency)\u001b[0m\n\u001b[1;32m    787\u001b[0m     \u001b[0mcontingency_sum\u001b[0m \u001b[0;34m=\u001b[0m \u001b[0mcontingency\u001b[0m\u001b[0;34m.\u001b[0m\u001b[0msum\u001b[0m\u001b[0;34m(\u001b[0m\u001b[0;34m)\u001b[0m\u001b[0;34m\u001b[0m\u001b[0;34m\u001b[0m\u001b[0m\n\u001b[1;32m    788\u001b[0m     \u001b[0mpi\u001b[0m \u001b[0;34m=\u001b[0m \u001b[0mnp\u001b[0m\u001b[0;34m.\u001b[0m\u001b[0mravel\u001b[0m\u001b[0;34m(\u001b[0m\u001b[0mcontingency\u001b[0m\u001b[0;34m.\u001b[0m\u001b[0msum\u001b[0m\u001b[0;34m(\u001b[0m\u001b[0maxis\u001b[0m\u001b[0;34m=\u001b[0m\u001b[0;36m1\u001b[0m\u001b[0;34m)\u001b[0m\u001b[0;34m)\u001b[0m\u001b[0;34m\u001b[0m\u001b[0;34m\u001b[0m\u001b[0m\n\u001b[0;32m--> 789\u001b[0;31m     \u001b[0mpj\u001b[0m \u001b[0;34m=\u001b[0m \u001b[0mnp\u001b[0m\u001b[0;34m.\u001b[0m\u001b[0mravel\u001b[0m\u001b[0;34m(\u001b[0m\u001b[0mcontingency\u001b[0m\u001b[0;34m.\u001b[0m\u001b[0msum\u001b[0m\u001b[0;34m(\u001b[0m\u001b[0maxis\u001b[0m\u001b[0;34m=\u001b[0m\u001b[0;36m0\u001b[0m\u001b[0;34m)\u001b[0m\u001b[0;34m)\u001b[0m\u001b[0;34m\u001b[0m\u001b[0;34m\u001b[0m\u001b[0m\n\u001b[0m\u001b[1;32m    790\u001b[0m     \u001b[0mlog_contingency_nm\u001b[0m \u001b[0;34m=\u001b[0m \u001b[0mnp\u001b[0m\u001b[0;34m.\u001b[0m\u001b[0mlog\u001b[0m\u001b[0;34m(\u001b[0m\u001b[0mnz_val\u001b[0m\u001b[0;34m)\u001b[0m\u001b[0;34m\u001b[0m\u001b[0;34m\u001b[0m\u001b[0m\n\u001b[1;32m    791\u001b[0m     \u001b[0mcontingency_nm\u001b[0m \u001b[0;34m=\u001b[0m \u001b[0mnz_val\u001b[0m \u001b[0;34m/\u001b[0m \u001b[0mcontingency_sum\u001b[0m\u001b[0;34m\u001b[0m\u001b[0;34m\u001b[0m\u001b[0m\n",
      "\u001b[0;32m~/opt/anaconda3/lib/python3.9/site-packages/scipy/sparse/compressed.py\u001b[0m in \u001b[0;36msum\u001b[0;34m(self, axis, dtype, out)\u001b[0m\n\u001b[1;32m    611\u001b[0m         \u001b[0;31m# is in {None, -1, 0, 1}\u001b[0m\u001b[0;34m\u001b[0m\u001b[0;34m\u001b[0m\u001b[0m\n\u001b[1;32m    612\u001b[0m         \u001b[0;32melse\u001b[0m\u001b[0;34m:\u001b[0m\u001b[0;34m\u001b[0m\u001b[0;34m\u001b[0m\u001b[0m\n\u001b[0;32m--> 613\u001b[0;31m             \u001b[0;32mreturn\u001b[0m \u001b[0mspmatrix\u001b[0m\u001b[0;34m.\u001b[0m\u001b[0msum\u001b[0m\u001b[0;34m(\u001b[0m\u001b[0mself\u001b[0m\u001b[0;34m,\u001b[0m \u001b[0maxis\u001b[0m\u001b[0;34m=\u001b[0m\u001b[0maxis\u001b[0m\u001b[0;34m,\u001b[0m \u001b[0mdtype\u001b[0m\u001b[0;34m=\u001b[0m\u001b[0mdtype\u001b[0m\u001b[0;34m,\u001b[0m \u001b[0mout\u001b[0m\u001b[0;34m=\u001b[0m\u001b[0mout\u001b[0m\u001b[0;34m)\u001b[0m\u001b[0;34m\u001b[0m\u001b[0;34m\u001b[0m\u001b[0m\n\u001b[0m\u001b[1;32m    614\u001b[0m \u001b[0;34m\u001b[0m\u001b[0m\n\u001b[1;32m    615\u001b[0m     \u001b[0msum\u001b[0m\u001b[0;34m.\u001b[0m\u001b[0m__doc__\u001b[0m \u001b[0;34m=\u001b[0m \u001b[0mspmatrix\u001b[0m\u001b[0;34m.\u001b[0m\u001b[0msum\u001b[0m\u001b[0;34m.\u001b[0m\u001b[0m__doc__\u001b[0m\u001b[0;34m\u001b[0m\u001b[0;34m\u001b[0m\u001b[0m\n",
      "\u001b[0;32m~/opt/anaconda3/lib/python3.9/site-packages/scipy/sparse/base.py\u001b[0m in \u001b[0;36msum\u001b[0;34m(self, axis, dtype, out)\u001b[0m\n\u001b[1;32m   1026\u001b[0m         \u001b[0;32mif\u001b[0m \u001b[0maxis\u001b[0m \u001b[0;34m==\u001b[0m \u001b[0;36m0\u001b[0m\u001b[0;34m:\u001b[0m\u001b[0;34m\u001b[0m\u001b[0;34m\u001b[0m\u001b[0m\n\u001b[1;32m   1027\u001b[0m             \u001b[0;31m# sum over columns\u001b[0m\u001b[0;34m\u001b[0m\u001b[0;34m\u001b[0m\u001b[0m\n\u001b[0;32m-> 1028\u001b[0;31m             ret = asmatrix(np.ones(\n\u001b[0m\u001b[1;32m   1029\u001b[0m                 (1, m), dtype=res_dtype)) * self\n\u001b[1;32m   1030\u001b[0m         \u001b[0;32melse\u001b[0m\u001b[0;34m:\u001b[0m\u001b[0;34m\u001b[0m\u001b[0;34m\u001b[0m\u001b[0m\n",
      "\u001b[0;32m~/opt/anaconda3/lib/python3.9/site-packages/scipy/sparse/base.py\u001b[0m in \u001b[0;36m__rmul__\u001b[0;34m(self, other)\u001b[0m\n\u001b[1;32m    548\u001b[0m             \u001b[0;32mexcept\u001b[0m \u001b[0mAttributeError\u001b[0m\u001b[0;34m:\u001b[0m\u001b[0;34m\u001b[0m\u001b[0;34m\u001b[0m\u001b[0m\n\u001b[1;32m    549\u001b[0m                 \u001b[0mtr\u001b[0m \u001b[0;34m=\u001b[0m \u001b[0mnp\u001b[0m\u001b[0;34m.\u001b[0m\u001b[0masarray\u001b[0m\u001b[0;34m(\u001b[0m\u001b[0mother\u001b[0m\u001b[0;34m)\u001b[0m\u001b[0;34m.\u001b[0m\u001b[0mtranspose\u001b[0m\u001b[0;34m(\u001b[0m\u001b[0;34m)\u001b[0m\u001b[0;34m\u001b[0m\u001b[0;34m\u001b[0m\u001b[0m\n\u001b[0;32m--> 550\u001b[0;31m             \u001b[0;32mreturn\u001b[0m \u001b[0;34m(\u001b[0m\u001b[0mself\u001b[0m\u001b[0;34m.\u001b[0m\u001b[0mtranspose\u001b[0m\u001b[0;34m(\u001b[0m\u001b[0;34m)\u001b[0m \u001b[0;34m*\u001b[0m \u001b[0mtr\u001b[0m\u001b[0;34m)\u001b[0m\u001b[0;34m.\u001b[0m\u001b[0mtranspose\u001b[0m\u001b[0;34m(\u001b[0m\u001b[0;34m)\u001b[0m\u001b[0;34m\u001b[0m\u001b[0;34m\u001b[0m\u001b[0m\n\u001b[0m\u001b[1;32m    551\u001b[0m \u001b[0;34m\u001b[0m\u001b[0m\n\u001b[1;32m    552\u001b[0m     \u001b[0;31m#######################\u001b[0m\u001b[0;34m\u001b[0m\u001b[0;34m\u001b[0m\u001b[0m\n",
      "\u001b[0;32m~/opt/anaconda3/lib/python3.9/site-packages/scipy/sparse/csr.py\u001b[0m in \u001b[0;36mtranspose\u001b[0;34m(self, axes, copy)\u001b[0m\n\u001b[1;32m    142\u001b[0m \u001b[0;34m\u001b[0m\u001b[0m\n\u001b[1;32m    143\u001b[0m         \u001b[0;32mfrom\u001b[0m \u001b[0;34m.\u001b[0m\u001b[0mcsc\u001b[0m \u001b[0;32mimport\u001b[0m \u001b[0mcsc_matrix\u001b[0m\u001b[0;34m\u001b[0m\u001b[0;34m\u001b[0m\u001b[0m\n\u001b[0;32m--> 144\u001b[0;31m         return csc_matrix((self.data, self.indices,\n\u001b[0m\u001b[1;32m    145\u001b[0m                            self.indptr), shape=(N, M), copy=copy)\n\u001b[1;32m    146\u001b[0m \u001b[0;34m\u001b[0m\u001b[0m\n",
      "\u001b[0;32m~/opt/anaconda3/lib/python3.9/site-packages/scipy/sparse/compressed.py\u001b[0m in \u001b[0;36m__init__\u001b[0;34m(self, arg1, shape, dtype, copy)\u001b[0m\n\u001b[1;32m    104\u001b[0m             \u001b[0mself\u001b[0m\u001b[0;34m.\u001b[0m\u001b[0mdata\u001b[0m \u001b[0;34m=\u001b[0m \u001b[0mself\u001b[0m\u001b[0;34m.\u001b[0m\u001b[0mdata\u001b[0m\u001b[0;34m.\u001b[0m\u001b[0mastype\u001b[0m\u001b[0;34m(\u001b[0m\u001b[0mdtype\u001b[0m\u001b[0;34m,\u001b[0m \u001b[0mcopy\u001b[0m\u001b[0;34m=\u001b[0m\u001b[0;32mFalse\u001b[0m\u001b[0;34m)\u001b[0m\u001b[0;34m\u001b[0m\u001b[0;34m\u001b[0m\u001b[0m\n\u001b[1;32m    105\u001b[0m \u001b[0;34m\u001b[0m\u001b[0m\n\u001b[0;32m--> 106\u001b[0;31m         \u001b[0mself\u001b[0m\u001b[0;34m.\u001b[0m\u001b[0mcheck_format\u001b[0m\u001b[0;34m(\u001b[0m\u001b[0mfull_check\u001b[0m\u001b[0;34m=\u001b[0m\u001b[0;32mFalse\u001b[0m\u001b[0;34m)\u001b[0m\u001b[0;34m\u001b[0m\u001b[0;34m\u001b[0m\u001b[0m\n\u001b[0m\u001b[1;32m    107\u001b[0m \u001b[0;34m\u001b[0m\u001b[0m\n\u001b[1;32m    108\u001b[0m     \u001b[0;32mdef\u001b[0m \u001b[0mgetnnz\u001b[0m\u001b[0;34m(\u001b[0m\u001b[0mself\u001b[0m\u001b[0;34m,\u001b[0m \u001b[0maxis\u001b[0m\u001b[0;34m=\u001b[0m\u001b[0;32mNone\u001b[0m\u001b[0;34m)\u001b[0m\u001b[0;34m:\u001b[0m\u001b[0;34m\u001b[0m\u001b[0;34m\u001b[0m\u001b[0m\n",
      "\u001b[0;32m~/opt/anaconda3/lib/python3.9/site-packages/scipy/sparse/compressed.py\u001b[0m in \u001b[0;36mcheck_format\u001b[0;34m(self, full_check)\u001b[0m\n\u001b[1;32m    179\u001b[0m                              \"the size of index and data arrays\")\n\u001b[1;32m    180\u001b[0m \u001b[0;34m\u001b[0m\u001b[0m\n\u001b[0;32m--> 181\u001b[0;31m         \u001b[0mself\u001b[0m\u001b[0;34m.\u001b[0m\u001b[0mprune\u001b[0m\u001b[0;34m(\u001b[0m\u001b[0;34m)\u001b[0m\u001b[0;34m\u001b[0m\u001b[0;34m\u001b[0m\u001b[0m\n\u001b[0m\u001b[1;32m    182\u001b[0m \u001b[0;34m\u001b[0m\u001b[0m\n\u001b[1;32m    183\u001b[0m         \u001b[0;32mif\u001b[0m \u001b[0mfull_check\u001b[0m\u001b[0;34m:\u001b[0m\u001b[0;34m\u001b[0m\u001b[0;34m\u001b[0m\u001b[0m\n",
      "\u001b[0;32m~/opt/anaconda3/lib/python3.9/site-packages/scipy/sparse/compressed.py\u001b[0m in \u001b[0;36mprune\u001b[0;34m(self)\u001b[0m\n\u001b[1;32m   1146\u001b[0m             \u001b[0mself\u001b[0m\u001b[0;34m.\u001b[0m\u001b[0mhas_sorted_indices\u001b[0m \u001b[0;34m=\u001b[0m \u001b[0;32mTrue\u001b[0m\u001b[0;34m\u001b[0m\u001b[0;34m\u001b[0m\u001b[0m\n\u001b[1;32m   1147\u001b[0m \u001b[0;34m\u001b[0m\u001b[0m\n\u001b[0;32m-> 1148\u001b[0;31m     \u001b[0;32mdef\u001b[0m \u001b[0mprune\u001b[0m\u001b[0;34m(\u001b[0m\u001b[0mself\u001b[0m\u001b[0;34m)\u001b[0m\u001b[0;34m:\u001b[0m\u001b[0;34m\u001b[0m\u001b[0;34m\u001b[0m\u001b[0m\n\u001b[0m\u001b[1;32m   1149\u001b[0m         \"\"\"Remove empty space after all non-zero elements.\n\u001b[1;32m   1150\u001b[0m         \"\"\"\n",
      "\u001b[0;31mKeyboardInterrupt\u001b[0m: "
     ]
    }
   ],
   "source": [
    "train_mimic_algorithms(fitness_functions_list, mm_params)"
   ]
  },
  {
   "cell_type": "markdown",
   "id": "f38a26e1-5a6c-415a-a64b-19f115a9f286",
   "metadata": {},
   "source": [
    "### Algorithm Best Parameters Times"
   ]
  },
  {
   "cell_type": "code",
   "execution_count": 68,
   "id": "05b6720c-e1a6-4997-a736-dacb6c9f4566",
   "metadata": {},
   "outputs": [],
   "source": [
    "def rhc(best_function_param, max_attempts, max_iters, restart):\n",
    "    \n",
    "    # Define Fitness function and discrete problem object\n",
    "    problem = mlrose_hiive.DiscreteOpt(length=100, fitness_fn=fitness, maximize=True)\n",
    "    \n",
    "\n",
    "    print(\"Running Random Hill Climb Experiment\")\n",
    "    start_time = time.time()\n",
    "    \n",
    "    rhc_best_state, rhc_best_fitness, rhc_fitness_curve = mlrose_hiive.random_hill_climb(problem = best_function_param, \n",
    "                                                                                   max_attempts = max_attempts, \n",
    "                                                                                   max_iters=max_iters, \n",
    "                                                                                   curve=True, \n",
    "                                                                                   random_state=10,\n",
    "                                                                                   restarts=restart)\n",
    "    end_time = time.time()\n",
    "    rhc_time = end_time - start_time\n",
    "    print(\"Time (s): {}\".format(rhc_time))\n",
    "    print()\n",
    "    \n",
    "    # Random Hill Climbing curve plot\n",
    "    plt.plot(iterations, rhc_fitness_curve[:, 0], label='RHC', color='green')\n",
    "    \n",
    "    # plot labels\n",
    "    plt.legend(loc=\"best\")\n",
    "    plt.xlabel(\"Iterations\")\n",
    "    plt.ylabel(\"Fitness\")\n",
    "    \n",
    "    # Random Hill Climbing curve plot\n",
    "    plt.plot(iterations, rhc_fitness_curve[:, 1], label='RHC', color='green')\n",
    "    plt.show()"
   ]
  },
  {
   "cell_type": "code",
   "execution_count": 33,
   "id": "8c1eb8a5-eb2e-459f-997a-384b3407296e",
   "metadata": {},
   "outputs": [],
   "source": [
    "def simulated_annealing(best_function_param, max_attmpsts, max_iterations, schedule):\n",
    "    # SA\n",
    "    print(\"Running Simulated Annealing Experiment\")\n",
    "    start_time = time.time()\n",
    "    sa_best_state, sa_best_fitness, sa_fitness_curve = mlrose_hiive.simulated_annealing(\n",
    "                                                                                problem = best_function_param, \n",
    "                                                                                max_attempts=max_attempts, \n",
    "                                                                                max_iters=max_iters, \n",
    "                                                                                curve=True, \n",
    "                                                                                random_state=10,\n",
    "                                                                                schedule=schedule \n",
    "    )\n",
    "    end_time = time.time()\n",
    "    sa_time = end_time - start_time\n",
    "    print(\"Time (s): {}\".format(sa_time))\n",
    "    print()\n",
    "    \n",
    "    \n",
    "    # Simulated Annealing curve plot\n",
    "    plt.plot(iterations, sa_fitness_curve[:, 0], label='SA', color='red')\n",
    "    \n",
    "    # plot labels\n",
    "    plt.legend(loc=\"best\")\n",
    "    plt.xlabel(\"Iterations\")\n",
    "    plt.ylabel(\"Fitness\")"
   ]
  },
  {
   "cell_type": "code",
   "execution_count": 42,
   "id": "3d25f0ed-0b12-4d99-8b8c-cd063281cc7f",
   "metadata": {},
   "outputs": [],
   "source": [
    "def ga(best_function_param, max_attempts, max_iterations, pop_size, mutation_prob):\n",
    "    # GA\n",
    "    print(\"Running Genetic Algorithm Experiment\")\n",
    "    start_time = time.time()\n",
    "    ga_best_state, ga_best_fitness, ga_fitness_curve = mlrose_hiive.genetic_alg(\n",
    "                                                        problem=best_function_param, \n",
    "                                                        max_attempts=max_attempts, \n",
    "                                                        max_iters=max_iters, \n",
    "                                                        curve=True, \n",
    "                                                        random_state=10,\n",
    "                                                        pop_size=pop_size,\n",
    "                                                        mutation_prob=mutation_prob\n",
    "    )\n",
    "    end_time = time.time()\n",
    "    ga_time = end_time - start_time\n",
    "    print(\"Time (s): {}\".format(ga_time))\n",
    "    print()\n",
    "    \n",
    "    # Genetic Algorithms curve plot\n",
    "    plt.plot(iterations, ga_fitness_curve[:, 0], label='GA', color='blue')\n",
    "    \n",
    "    # plot labels\n",
    "    plt.legend(loc=\"best\")\n",
    "    plt.xlabel(\"Iterations\")\n",
    "    plt.ylabel(\"Fitness\")"
   ]
  },
  {
   "cell_type": "code",
   "execution_count": 50,
   "id": "0df2d21a-5391-4c56-ba9e-b648bfc6db9b",
   "metadata": {},
   "outputs": [],
   "source": [
    "def mimic(best_param_value, max_attempts, max_iterations, keep_pct):\n",
    "    # MIMIC\n",
    "    print(\"Running MIMIC Algorithm Experiment\")\n",
    "    start_time = time.time()\n",
    "    mimic_best_state, mimic_best_fitness, mimic_fitness_curve = mlrose_hiive.mimic(\n",
    "                                                                                problem = best_param_value, \n",
    "                                                                                max_attempts = 100, \n",
    "                                                                                max_iters = 100,  \n",
    "                                                                                curve = True, \n",
    "                                                                                random_state = 10,\n",
    "                                                                                keep_pct=keep_pct\n",
    "    )\n",
    "    end_time = time.time()\n",
    "    mimic_time = end_time - start_time\n",
    "    print(\"Time (s): {}\".format(mimic_time))\n",
    "    print()\n",
    "    \n",
    "    # MIMIC curve plot\n",
    "    plt.plot(iterations, mimic_fitness_curve[:, 0], label='MIMIC', color='orange')\n",
    "    \n",
    "    # plot labels\n",
    "    plt.legend(loc=\"best\")\n",
    "    plt.xlabel(\"Iterations\")\n",
    "    plt.ylabel(\"Fitness\")"
   ]
  },
  {
   "cell_type": "code",
   "execution_count": 37,
   "id": "cb90bb35-cb2e-4e10-9054-e5f8a6995cb4",
   "metadata": {},
   "outputs": [
    {
     "ename": "NameError",
     "evalue": "name 'sa_fitness_curve' is not defined",
     "output_type": "error",
     "traceback": [
      "\u001b[0;31m---------------------------------------------------------------------------\u001b[0m",
      "\u001b[0;31mNameError\u001b[0m                                 Traceback (most recent call last)",
      "\u001b[0;32m/var/folders/0z/b69fyzzx0s57g_69wvxdmk1m0000gn/T/ipykernel_27265/2029197265.py\u001b[0m in \u001b[0;36m<module>\u001b[0;34m\u001b[0m\n\u001b[1;32m      6\u001b[0m \u001b[0;34m\u001b[0m\u001b[0m\n\u001b[1;32m      7\u001b[0m \u001b[0;31m# Simulated Annealing curve plot\u001b[0m\u001b[0;34m\u001b[0m\u001b[0;34m\u001b[0m\u001b[0m\n\u001b[0;32m----> 8\u001b[0;31m \u001b[0mplt\u001b[0m\u001b[0;34m.\u001b[0m\u001b[0mplot\u001b[0m\u001b[0;34m(\u001b[0m\u001b[0miterations\u001b[0m\u001b[0;34m,\u001b[0m \u001b[0msa_fitness_curve\u001b[0m\u001b[0;34m[\u001b[0m\u001b[0;34m:\u001b[0m\u001b[0;34m,\u001b[0m \u001b[0;36m0\u001b[0m\u001b[0;34m]\u001b[0m\u001b[0;34m,\u001b[0m \u001b[0mlabel\u001b[0m\u001b[0;34m=\u001b[0m\u001b[0;34m'SA'\u001b[0m\u001b[0;34m,\u001b[0m \u001b[0mcolor\u001b[0m\u001b[0;34m=\u001b[0m\u001b[0;34m'red'\u001b[0m\u001b[0;34m)\u001b[0m\u001b[0;34m\u001b[0m\u001b[0;34m\u001b[0m\u001b[0m\n\u001b[0m\u001b[1;32m      9\u001b[0m \u001b[0;34m\u001b[0m\u001b[0m\n\u001b[1;32m     10\u001b[0m \u001b[0;31m# Genetic Algorithms curve plot\u001b[0m\u001b[0;34m\u001b[0m\u001b[0;34m\u001b[0m\u001b[0m\n",
      "\u001b[0;31mNameError\u001b[0m: name 'sa_fitness_curve' is not defined"
     ]
    }
   ],
   "source": [
    "# Plot Iterations vs Fitness\n",
    "max_iters = 100\n",
    "\n",
    "iterations = range(1, max_iters + 1)\n",
    "\n",
    "\n",
    "# Simulated Annealing curve plot\n",
    "plt.plot(iterations, sa_fitness_curve[:, 0], label='SA', color='red')\n",
    "\n",
    "# Genetic Algorithms curve plot\n",
    "plt.plot(iterations, ga_fitness_curve[:, 0], label='GA', color='blue')\n",
    "\n",
    "# MIMIC curve plot\n",
    "plt.plot(iterations, mimic_fitness_curve[:, 0], label='MIMIC', color='orange')\n",
    "\n",
    "# plot labels\n",
    "plt.legend(loc=\"best\")\n",
    "plt.xlabel(\"Iterations\")\n",
    "plt.ylabel(\"Fitness\")\n",
    "\n",
    "# Plot Time Table\n",
    "data = [('RHC', round(rhc_time, 5)), \n",
    "        ('SA', round(sa_time, 5)), \n",
    "        ('GA', round(ga_time, 5)), \n",
    "        ('MIMIC', round(mimic_time, 5))]"
   ]
  },
  {
   "cell_type": "markdown",
   "id": "592d275a-cb6f-4310-9cfe-a860a1efe5fe",
   "metadata": {},
   "source": [
    "### Four Peaks"
   ]
  },
  {
   "cell_type": "code",
   "execution_count": 38,
   "id": "b9ca2ffa-d8e9-4c76-a7bb-4a5a31bd1ade",
   "metadata": {},
   "outputs": [],
   "source": [
    "max_attempts = 100\n",
    "max_iters = 100"
   ]
  },
  {
   "cell_type": "code",
   "execution_count": 39,
   "id": "84983b46-c7a4-483f-a01a-872ab5585b4c",
   "metadata": {},
   "outputs": [
    {
     "name": "stdout",
     "output_type": "stream",
     "text": [
      "Running Random Hill Climb Experiment\n",
      "Time (s): 0.11297106742858887\n",
      "\n"
     ]
    },
    {
     "data": {
      "image/png": "[encoded data removed]",
      "text/plain": [
       "<Figure size 432x288 with 1 Axes>"
      ]
     },
     "metadata": {
      "needs_background": "light"
     },
     "output_type": "display_data"
    }
   ],
   "source": [
    "restart = 95\n",
    "fitness = mlrose_hiive.FourPeaks()\n",
    "four_peaks_object = mlrose_hiive.DiscreteOpt(length=100, fitness_fn=fitness, maximize=True)\n",
    "rhc(four_peaks_object, max_attempts, max_iters, restart)"
   ]
  },
  {
   "cell_type": "code",
   "execution_count": 40,
   "id": "fb08413f-51a4-4451-b059-9e9fc7ac9cca",
   "metadata": {},
   "outputs": [
    {
     "name": "stdout",
     "output_type": "stream",
     "text": [
      "Running Simulated Annealing Experiment\n",
      "Time (s): 0.005606174468994141\n",
      "\n"
     ]
    },
    {
     "data": {
      "image/png": "[encoded data removed]",
      "text/plain": [
       "<Figure size 432x288 with 1 Axes>"
      ]
     },
     "metadata": {
      "needs_background": "light"
     },
     "output_type": "display_data"
    }
   ],
   "source": [
    "schedule = mlrose_hiive.GeomDecay(init_temp = 1, decay=0.1, min_temp=1)\n",
    "simulated_annealing(four_peaks_object, max_attempts, max_iters, schedule)"
   ]
  },
  {
   "cell_type": "code",
   "execution_count": 44,
   "id": "0f86d125-4ac3-4b91-b615-d3fab19e73b7",
   "metadata": {},
   "outputs": [
    {
     "name": "stdout",
     "output_type": "stream",
     "text": [
      "Running Genetic Algorithm Experiment\n",
      "Time (s): 0.8920269012451172\n",
      "\n"
     ]
    },
    {
     "data": {
      "image/png": "[encoded data removed]",
      "text/plain": [
       "<Figure size 432x288 with 1 Axes>"
      ]
     },
     "metadata": {
      "needs_background": "light"
     },
     "output_type": "display_data"
    }
   ],
   "source": [
    "pop_size = 200\n",
    "mutation_prob = 0.2\n",
    "ga(four_peaks_object, max_attempts, max_iters, pop_size, mutation_prob=mutation_prob)"
   ]
  },
  {
   "cell_type": "code",
   "execution_count": 65,
   "id": "2fb606fb-d03e-40e9-8752-6d6d5dcc9697",
   "metadata": {},
   "outputs": [
    {
     "name": "stdout",
     "output_type": "stream",
     "text": [
      "Running MIMIC Algorithm Experiment\n",
      "Time (s): 235.00099086761475\n",
      "\n"
     ]
    },
    {
     "data": {
      "image/png": "[encoded data removed]",
      "text/plain": [
       "<Figure size 432x288 with 1 Axes>"
      ]
     },
     "metadata": {
      "needs_background": "light"
     },
     "output_type": "display_data"
    }
   ],
   "source": [
    "keep_pct = 0.25\n",
    "mimic(four_peaks_object, max_attempts, max_iters, keep_pct)"
   ]
  },
  {
   "cell_type": "markdown",
   "id": "bef49cce-a88d-4163-b3b6-09489bb5989e",
   "metadata": {},
   "source": [
    "### OneMax"
   ]
  },
  {
   "cell_type": "code",
   "execution_count": 52,
   "id": "73a3d797-b3d2-4b8c-9a18-f283f2f5bd51",
   "metadata": {},
   "outputs": [],
   "source": [
    "fitness = mlrose_hiive.OneMax()"
   ]
  },
  {
   "cell_type": "code",
   "execution_count": 53,
   "id": "f99d0d20-4733-4954-ac88-38b2a3fc96a2",
   "metadata": {},
   "outputs": [
    {
     "name": "stdout",
     "output_type": "stream",
     "text": [
      "Running Random Hill Climb Experiment\n",
      "Time (s): 0.16214489936828613\n",
      "\n"
     ]
    },
    {
     "data": {
      "image/png": "[encoded data removed]",
      "text/plain": [
       "<Figure size 432x288 with 1 Axes>"
      ]
     },
     "metadata": {
      "needs_background": "light"
     },
     "output_type": "display_data"
    }
   ],
   "source": [
    "one_max_object = mlrose_hiive.DiscreteOpt(length=100, fitness_fn=fitness, maximize=True)\n",
    "rhc(one_max_object, max_attempts, max_iters, restart)"
   ]
  },
  {
   "cell_type": "code",
   "execution_count": 54,
   "id": "52afe14d-683d-49ef-a242-684ba0d75287",
   "metadata": {},
   "outputs": [
    {
     "name": "stdout",
     "output_type": "stream",
     "text": [
      "Running Simulated Annealing Experiment\n",
      "Time (s): 0.004643917083740234\n",
      "\n"
     ]
    },
    {
     "data": {
      "image/png": "[encoded data removed]",
      "text/plain": [
       "<Figure size 432x288 with 1 Axes>"
      ]
     },
     "metadata": {
      "needs_background": "light"
     },
     "output_type": "display_data"
    }
   ],
   "source": [
    "simulated_annealing(one_max_object, max_attempts, max_iters, schedule)"
   ]
  },
  {
   "cell_type": "code",
   "execution_count": 55,
   "id": "8c6ede8d-dcc1-41c2-844d-60d27d8427ca",
   "metadata": {},
   "outputs": [
    {
     "name": "stdout",
     "output_type": "stream",
     "text": [
      "Running Genetic Algorithm Experiment\n",
      "Time (s): 0.7771551609039307\n",
      "\n"
     ]
    },
    {
     "data": {
      "image/png": "[encoded data removed]",
      "text/plain": [
       "<Figure size 432x288 with 1 Axes>"
      ]
     },
     "metadata": {
      "needs_background": "light"
     },
     "output_type": "display_data"
    }
   ],
   "source": [
    "ga(one_max_object, max_attempts, max_iters, pop_size, mutation_prob=mutation_prob)"
   ]
  },
  {
   "cell_type": "code",
   "execution_count": 66,
   "id": "850d84aa-0a88-427a-a449-7563c83327d2",
   "metadata": {},
   "outputs": [
    {
     "name": "stdout",
     "output_type": "stream",
     "text": [
      "Running MIMIC Algorithm Experiment\n",
      "Time (s): 231.83000588417053\n",
      "\n"
     ]
    },
    {
     "data": {
      "image/png": "[encoded data removed]",
      "text/plain": [
       "<Figure size 432x288 with 1 Axes>"
      ]
     },
     "metadata": {
      "needs_background": "light"
     },
     "output_type": "display_data"
    }
   ],
   "source": [
    "mimic(one_max_object, max_attempts, max_iters, keep_pct)"
   ]
  },
  {
   "cell_type": "markdown",
   "id": "4b4ceee9-4494-4303-89e8-b51e9287383e",
   "metadata": {},
   "source": [
    "### FlipFlop"
   ]
  },
  {
   "cell_type": "code",
   "execution_count": 57,
   "id": "d68181f2-2b07-4a5d-9af7-394a3150b43e",
   "metadata": {},
   "outputs": [],
   "source": [
    "fitness = mlrose_hiive.FlipFlop()"
   ]
  },
  {
   "cell_type": "code",
   "execution_count": 58,
   "id": "32975e49-00d5-41f3-b5b8-e25cec8c6d59",
   "metadata": {},
   "outputs": [
    {
     "name": "stdout",
     "output_type": "stream",
     "text": [
      "Running Random Hill Climb Experiment\n",
      "Time (s): 2.12524676322937\n",
      "\n"
     ]
    },
    {
     "data": {
      "image/png": "[encoded data removed]",
      "text/plain": [
       "<Figure size 432x288 with 1 Axes>"
      ]
     },
     "metadata": {
      "needs_background": "light"
     },
     "output_type": "display_data"
    }
   ],
   "source": [
    "flip_flop_object = mlrose_hiive.DiscreteOpt(length=100, fitness_fn=fitness, maximize=True)\n",
    "rhc(flip_flop_object, max_attempts, max_iters, restart)"
   ]
  },
  {
   "cell_type": "code",
   "execution_count": 59,
   "id": "c5d2b574-9b9a-440c-bb5a-b1198976ed4d",
   "metadata": {},
   "outputs": [
    {
     "name": "stdout",
     "output_type": "stream",
     "text": [
      "Running Simulated Annealing Experiment\n",
      "Time (s): 0.038758039474487305\n",
      "\n"
     ]
    },
    {
     "data": {
      "image/png": "[encoded data removed]",
      "text/plain": [
       "<Figure size 432x288 with 1 Axes>"
      ]
     },
     "metadata": {
      "needs_background": "light"
     },
     "output_type": "display_data"
    }
   ],
   "source": [
    "simulated_annealing(flip_flop_object, max_attempts, max_iters, schedule)"
   ]
  },
  {
   "cell_type": "code",
   "execution_count": 60,
   "id": "d3f70ccb-e023-4754-9287-7f3cc7ca55c7",
   "metadata": {},
   "outputs": [
    {
     "name": "stdout",
     "output_type": "stream",
     "text": [
      "Running Genetic Algorithm Experiment\n",
      "Time (s): 4.478827953338623\n",
      "\n"
     ]
    },
    {
     "data": {
      "image/png": "[encoded data removed]",
      "text/plain": [
       "<Figure size 432x288 with 1 Axes>"
      ]
     },
     "metadata": {
      "needs_background": "light"
     },
     "output_type": "display_data"
    }
   ],
   "source": [
    "ga(flip_flop_object, max_attempts, max_iters, pop_size, mutation_prob=mutation_prob)"
   ]
  },
  {
   "cell_type": "code",
   "execution_count": 67,
   "id": "dac1ebb5-9083-4841-9158-88f5c7426796",
   "metadata": {},
   "outputs": [
    {
     "name": "stdout",
     "output_type": "stream",
     "text": [
      "Running MIMIC Algorithm Experiment\n",
      "Time (s): 238.91711616516113\n",
      "\n"
     ]
    },
    {
     "data": {
      "image/png": "[encoded data removed]",
      "text/plain": [
       "<Figure size 432x288 with 1 Axes>"
      ]
     },
     "metadata": {
      "needs_background": "light"
     },
     "output_type": "display_data"
    }
   ],
   "source": [
    "mimic(flip_flop_object, max_attempts, max_iters, keep_pct)"
   ]
  },
  {
   "cell_type": "markdown",
   "id": "8c2cea29-357e-49e5-98e7-684960a5bf92",
   "metadata": {},
   "source": [
    "### Evaluations"
   ]
  },
  {
   "cell_type": "code",
   "execution_count": 64,
   "id": "a4f805dc-e63d-4dda-b58a-dc60810a51a1",
   "metadata": {},
   "outputs": [
    {
     "ename": "NameError",
     "evalue": "name 'rhc_fitness_curve' is not defined",
     "output_type": "error",
     "traceback": [
      "\u001b[0;31m---------------------------------------------------------------------------\u001b[0m",
      "\u001b[0;31mNameError\u001b[0m                                 Traceback (most recent call last)",
      "\u001b[0;32m/var/folders/0z/b69fyzzx0s57g_69wvxdmk1m0000gn/T/ipykernel_27265/3585311331.py\u001b[0m in \u001b[0;36m<module>\u001b[0;34m\u001b[0m\n\u001b[1;32m      1\u001b[0m \u001b[0;31m# Random Hill Climbing curve plot\u001b[0m\u001b[0;34m\u001b[0m\u001b[0;34m\u001b[0m\u001b[0m\n\u001b[0;32m----> 2\u001b[0;31m \u001b[0mplt\u001b[0m\u001b[0;34m.\u001b[0m\u001b[0mplot\u001b[0m\u001b[0;34m(\u001b[0m\u001b[0miterations\u001b[0m\u001b[0;34m,\u001b[0m \u001b[0mrhc_fitness_curve\u001b[0m\u001b[0;34m[\u001b[0m\u001b[0;34m:\u001b[0m\u001b[0;34m,\u001b[0m \u001b[0;36m1\u001b[0m\u001b[0;34m]\u001b[0m\u001b[0;34m,\u001b[0m \u001b[0mlabel\u001b[0m\u001b[0;34m=\u001b[0m\u001b[0;34m'RHC'\u001b[0m\u001b[0;34m,\u001b[0m \u001b[0mcolor\u001b[0m\u001b[0;34m=\u001b[0m\u001b[0;34m'green'\u001b[0m\u001b[0;34m)\u001b[0m\u001b[0;34m\u001b[0m\u001b[0;34m\u001b[0m\u001b[0m\n\u001b[0m\u001b[1;32m      3\u001b[0m \u001b[0mplt\u001b[0m\u001b[0;34m.\u001b[0m\u001b[0mshow\u001b[0m\u001b[0;34m(\u001b[0m\u001b[0;34m)\u001b[0m\u001b[0;34m\u001b[0m\u001b[0;34m\u001b[0m\u001b[0m\n",
      "\u001b[0;31mNameError\u001b[0m: name 'rhc_fitness_curve' is not defined"
     ]
    }
   ],
   "source": [
    "# Random Hill Climbing curve plot\n",
    "plt.plot(iterations, rhc_fitness_curve[:, 1], label='RHC', color='green')\n",
    "plt.show()"
   ]
  },
  {
   "cell_type": "code",
   "execution_count": 62,
   "id": "1ebcf4ee-c38a-448f-94f4-87cb248ff694",
   "metadata": {},
   "outputs": [
    {
     "ename": "NameError",
     "evalue": "name 'sa_fitness_curve' is not defined",
     "output_type": "error",
     "traceback": [
      "\u001b[0;31m---------------------------------------------------------------------------\u001b[0m",
      "\u001b[0;31mNameError\u001b[0m                                 Traceback (most recent call last)",
      "\u001b[0;32m/var/folders/0z/b69fyzzx0s57g_69wvxdmk1m0000gn/T/ipykernel_27265/3563995696.py\u001b[0m in \u001b[0;36m<module>\u001b[0;34m\u001b[0m\n\u001b[1;32m      1\u001b[0m \u001b[0;31m# Simulated Annealing curve plot\u001b[0m\u001b[0;34m\u001b[0m\u001b[0;34m\u001b[0m\u001b[0m\n\u001b[0;32m----> 2\u001b[0;31m \u001b[0mplt\u001b[0m\u001b[0;34m.\u001b[0m\u001b[0mplot\u001b[0m\u001b[0;34m(\u001b[0m\u001b[0miterations\u001b[0m\u001b[0;34m,\u001b[0m \u001b[0msa_fitness_curve\u001b[0m\u001b[0;34m[\u001b[0m\u001b[0;34m:\u001b[0m\u001b[0;34m,\u001b[0m \u001b[0;36m1\u001b[0m\u001b[0;34m]\u001b[0m\u001b[0;34m,\u001b[0m \u001b[0mlabel\u001b[0m\u001b[0;34m=\u001b[0m\u001b[0;34m'SA'\u001b[0m\u001b[0;34m,\u001b[0m \u001b[0mcolor\u001b[0m\u001b[0;34m=\u001b[0m\u001b[0;34m'red'\u001b[0m\u001b[0;34m)\u001b[0m\u001b[0;34m\u001b[0m\u001b[0;34m\u001b[0m\u001b[0m\n\u001b[0m",
      "\u001b[0;31mNameError\u001b[0m: name 'sa_fitness_curve' is not defined"
     ]
    }
   ],
   "source": [
    "# Simulated Annealing curve plot\n",
    "plt.plot(iterations, sa_fitness_curve[:, 1], label='SA', color='red')"
   ]
  },
  {
   "cell_type": "code",
   "execution_count": null,
   "id": "8738ec81-6a3a-4fbd-a559-8adc08264b14",
   "metadata": {},
   "outputs": [],
   "source": [
    "# Genetic Algorithms curve plot\n",
    "plt.plot(iterations, ga_fitness_curve[:, 1], label='GA', color='blue')"
   ]
  },
  {
   "cell_type": "markdown",
   "id": "ca176807-1e91-4868-bdff-849c4ebe172f",
   "metadata": {},
   "source": [
    "### Evaluation Graph"
   ]
  },
  {
   "cell_type": "code",
   "execution_count": 85,
   "id": "ba8c1c94-a577-400d-a37d-03821673f54b",
   "metadata": {},
   "outputs": [],
   "source": [
    "def big_func(best_function_param):\n",
    "    \n",
    "    # Define Fitness function and discrete problem object\n",
    "    problem = mlrose_hiive.DiscreteOpt(length=100, fitness_fn=fitness, maximize=True)\n",
    "    \n",
    "\n",
    "\n",
    "    \n",
    "    rhc_best_state, rhc_best_fitness, rhc_fitness_curve = mlrose_hiive.random_hill_climb(problem = best_function_param, \n",
    "                                                                                   max_attempts = 100, \n",
    "                                                                                   max_iters=100, \n",
    "                                                                                   curve=True, \n",
    "                                                                                   random_state=10,\n",
    "                                                                                   restarts=95)\n",
    "    \n",
    "    \n",
    "    \n",
    "    # plot labels\n",
    "    plt.legend(loc=\"best\")\n",
    "    plt.xlabel(\"Iterations\")\n",
    "    plt.ylabel(\"Fitness\")\n",
    "    \n",
    "    # Random Hill Climbing curve plot\n",
    "    plt.plot(iterations, rhc_fitness_curve[:, 1], label='RHC', color='green')\n",
    "    plt.show()\n",
    "    \n",
    "    # SA\n",
    "    print(\"Running Simulated Annealing Experiment\")\n",
    "    start_time = time.time()\n",
    "    sa_best_state, sa_best_fitness, sa_fitness_curve = mlrose_hiive.simulated_annealing(\n",
    "                                                                                problem = best_function_param, \n",
    "                                                                                max_attempts=100, \n",
    "                                                                                max_iters=100, \n",
    "                                                                                curve=True, \n",
    "                                                                                random_state=10,\n",
    "                                                                                schedule=mlrose_hiive.GeomDecay(init_temp = 1, decay=0.1, min_temp=1)\n",
    "    )\n",
    "    \n",
    "    \n",
    "    \n",
    "    # Simulated Annealing curve plot\n",
    "    plt.plot(iterations, sa_fitness_curve[:, 1], label='SA', color='red')\n",
    "    \n",
    "    # plot labels\n",
    "    plt.legend(loc=\"best\")\n",
    "    plt.xlabel(\"Iterations\")\n",
    "    plt.ylabel(\"Fitness\")\n",
    "    \n",
    "    \n",
    "    ga_best_state, ga_best_fitness, ga_fitness_curve = mlrose_hiive.genetic_alg(\n",
    "                                                        problem=best_function_param, \n",
    "                                                        max_attempts=100, \n",
    "                                                        max_iters=100, \n",
    "                                                        curve=True, \n",
    "                                                        random_state=10,\n",
    "                                                        pop_size=200,\n",
    "                                                        mutation_prob=0.2\n",
    "    )\n",
    "    \n",
    "    \n",
    "    # Genetic Algorithms curve plot\n",
    "    plt.plot(iterations, ga_fitness_curve[:, 1], label='GA', color='blue')\n",
    "    \n",
    "    # plot labels\n",
    "    plt.legend(loc=\"best\")\n",
    "    plt.xlabel(\"Iterations\")\n",
    "    plt.ylabel(\"Fitness\")\n",
    "    \n",
    "    \n",
    "    mimic_best_state, mimic_best_fitness, mimic_fitness_curve = mlrose_hiive.mimic(\n",
    "                                                                                problem = best_param_value, \n",
    "                                                                                max_attempts = 100, \n",
    "                                                                                max_iters = 100,  \n",
    "                                                                                curve = True, \n",
    "                                                                                random_state = 10,\n",
    "                                                                                keep_pct=0.25\n",
    "    )\n",
    "    \n",
    "    # MIMIC curve plot\n",
    "    plt.plot(iterations, mimic_fitness_curve[:, 1], label='MIMIC', color='orange')\n",
    "    \n",
    "    # plot labels\n",
    "    plt.legend(loc=\"best\")\n",
    "    plt.xlabel(\"Iterations\")\n",
    "    plt.ylabel(\"Fitness\")"
   ]
  },
  {
   "cell_type": "code",
   "execution_count": 86,
   "id": "731453af-bf18-4ec3-a56a-4d2b67a5d015",
   "metadata": {},
   "outputs": [
    {
     "name": "stderr",
     "output_type": "stream",
     "text": [
      "No handles with labels found to put in legend.\n"
     ]
    },
    {
     "data": {
      "image/png": "[encoded data removed]",
      "text/plain": [
       "<Figure size 432x288 with 1 Axes>"
      ]
     },
     "metadata": {
      "needs_background": "light"
     },
     "output_type": "display_data"
    },
    {
     "name": "stdout",
     "output_type": "stream",
     "text": [
      "Running Simulated Annealing Experiment\n"
     ]
    },
    {
     "ename": "NameError",
     "evalue": "name 'best_param_value' is not defined",
     "output_type": "error",
     "traceback": [
      "\u001b[0;31m---------------------------------------------------------------------------\u001b[0m",
      "\u001b[0;31mNameError\u001b[0m                                 Traceback (most recent call last)",
      "\u001b[0;32m/var/folders/0z/b69fyzzx0s57g_69wvxdmk1m0000gn/T/ipykernel_27265/777142552.py\u001b[0m in \u001b[0;36m<module>\u001b[0;34m\u001b[0m\n\u001b[0;32m----> 1\u001b[0;31m \u001b[0mbig_func\u001b[0m\u001b[0;34m(\u001b[0m\u001b[0mfour_peaks_object\u001b[0m\u001b[0;34m)\u001b[0m\u001b[0;34m\u001b[0m\u001b[0;34m\u001b[0m\u001b[0m\n\u001b[0m",
      "\u001b[0;32m/var/folders/0z/b69fyzzx0s57g_69wvxdmk1m0000gn/T/ipykernel_27265/828548180.py\u001b[0m in \u001b[0;36mbig_func\u001b[0;34m(best_function_param)\u001b[0m\n\u001b[1;32m     69\u001b[0m \u001b[0;34m\u001b[0m\u001b[0m\n\u001b[1;32m     70\u001b[0m     mimic_best_state, mimic_best_fitness, mimic_fitness_curve = mlrose_hiive.mimic(\n\u001b[0;32m---> 71\u001b[0;31m                                                                                 \u001b[0mproblem\u001b[0m \u001b[0;34m=\u001b[0m \u001b[0mbest_param_value\u001b[0m\u001b[0;34m,\u001b[0m\u001b[0;34m\u001b[0m\u001b[0;34m\u001b[0m\u001b[0m\n\u001b[0m\u001b[1;32m     72\u001b[0m                                                                                 \u001b[0mmax_attempts\u001b[0m \u001b[0;34m=\u001b[0m \u001b[0;36m100\u001b[0m\u001b[0;34m,\u001b[0m\u001b[0;34m\u001b[0m\u001b[0;34m\u001b[0m\u001b[0m\n\u001b[1;32m     73\u001b[0m                                                                                 \u001b[0mmax_iters\u001b[0m \u001b[0;34m=\u001b[0m \u001b[0;36m100\u001b[0m\u001b[0;34m,\u001b[0m\u001b[0;34m\u001b[0m\u001b[0;34m\u001b[0m\u001b[0m\n",
      "\u001b[0;31mNameError\u001b[0m: name 'best_param_value' is not defined"
     ]
    },
    {
     "data": {
      "image/png": "[encoded data removed]",
      "text/plain": [
       "<Figure size 432x288 with 1 Axes>"
      ]
     },
     "metadata": {
      "needs_background": "light"
     },
     "output_type": "display_data"
    }
   ],
   "source": [
    "big_func(four_peaks_object)"
   ]
  },
  {
   "cell_type": "code",
   "execution_count": 89,
   "id": "68e4637d-eceb-4a36-8d57-d0107c492b7f",
   "metadata": {},
   "outputs": [
    {
     "name": "stderr",
     "output_type": "stream",
     "text": [
      "No handles with labels found to put in legend.\n"
     ]
    },
    {
     "data": {
      "image/png": "[encoded data removed]",
      "text/plain": [
       "<Figure size 432x288 with 1 Axes>"
      ]
     },
     "metadata": {
      "needs_background": "light"
     },
     "output_type": "display_data"
    },
    {
     "name": "stdout",
     "output_type": "stream",
     "text": [
      "Running Simulated Annealing Experiment\n"
     ]
    },
    {
     "ename": "NameError",
     "evalue": "name 'best_param_value' is not defined",
     "output_type": "error",
     "traceback": [
      "\u001b[0;31m---------------------------------------------------------------------------\u001b[0m",
      "\u001b[0;31mNameError\u001b[0m                                 Traceback (most recent call last)",
      "\u001b[0;32m/var/folders/0z/b69fyzzx0s57g_69wvxdmk1m0000gn/T/ipykernel_27265/909079457.py\u001b[0m in \u001b[0;36m<module>\u001b[0;34m\u001b[0m\n\u001b[0;32m----> 1\u001b[0;31m \u001b[0mbig_func\u001b[0m\u001b[0;34m(\u001b[0m\u001b[0mflip_flop_object\u001b[0m\u001b[0;34m)\u001b[0m\u001b[0;34m\u001b[0m\u001b[0;34m\u001b[0m\u001b[0m\n\u001b[0m",
      "\u001b[0;32m/var/folders/0z/b69fyzzx0s57g_69wvxdmk1m0000gn/T/ipykernel_27265/828548180.py\u001b[0m in \u001b[0;36mbig_func\u001b[0;34m(best_function_param)\u001b[0m\n\u001b[1;32m     69\u001b[0m \u001b[0;34m\u001b[0m\u001b[0m\n\u001b[1;32m     70\u001b[0m     mimic_best_state, mimic_best_fitness, mimic_fitness_curve = mlrose_hiive.mimic(\n\u001b[0;32m---> 71\u001b[0;31m                                                                                 \u001b[0mproblem\u001b[0m \u001b[0;34m=\u001b[0m \u001b[0mbest_param_value\u001b[0m\u001b[0;34m,\u001b[0m\u001b[0;34m\u001b[0m\u001b[0;34m\u001b[0m\u001b[0m\n\u001b[0m\u001b[1;32m     72\u001b[0m                                                                                 \u001b[0mmax_attempts\u001b[0m \u001b[0;34m=\u001b[0m \u001b[0;36m100\u001b[0m\u001b[0;34m,\u001b[0m\u001b[0;34m\u001b[0m\u001b[0;34m\u001b[0m\u001b[0m\n\u001b[1;32m     73\u001b[0m                                                                                 \u001b[0mmax_iters\u001b[0m \u001b[0;34m=\u001b[0m \u001b[0;36m100\u001b[0m\u001b[0;34m,\u001b[0m\u001b[0;34m\u001b[0m\u001b[0;34m\u001b[0m\u001b[0m\n",
      "\u001b[0;31mNameError\u001b[0m: name 'best_param_value' is not defined"
     ]
    },
    {
     "data": {
      "image/png": "[encoded data removed]",
      "text/plain": [
       "<Figure size 432x288 with 1 Axes>"
      ]
     },
     "metadata": {
      "needs_background": "light"
     },
     "output_type": "display_data"
    }
   ],
   "source": [
    "big_func(flip_flop_object)"
   ]
  },
  {
   "cell_type": "code",
   "execution_count": 91,
   "id": "b38af1ab-5018-422b-8852-68112b477283",
   "metadata": {},
   "outputs": [
    {
     "name": "stderr",
     "output_type": "stream",
     "text": [
      "No handles with labels found to put in legend.\n"
     ]
    },
    {
     "data": {
      "image/png": "[encoded data removed]",
      "text/plain": [
       "<Figure size 432x288 with 1 Axes>"
      ]
     },
     "metadata": {
      "needs_background": "light"
     },
     "output_type": "display_data"
    },
    {
     "name": "stdout",
     "output_type": "stream",
     "text": [
      "Running Simulated Annealing Experiment\n"
     ]
    },
    {
     "ename": "NameError",
     "evalue": "name 'best_param_value' is not defined",
     "output_type": "error",
     "traceback": [
      "\u001b[0;31m---------------------------------------------------------------------------\u001b[0m",
      "\u001b[0;31mNameError\u001b[0m                                 Traceback (most recent call last)",
      "\u001b[0;32m/var/folders/0z/b69fyzzx0s57g_69wvxdmk1m0000gn/T/ipykernel_27265/3358021855.py\u001b[0m in \u001b[0;36m<module>\u001b[0;34m\u001b[0m\n\u001b[0;32m----> 1\u001b[0;31m \u001b[0mbig_func\u001b[0m\u001b[0;34m(\u001b[0m\u001b[0mone_max_object\u001b[0m\u001b[0;34m)\u001b[0m\u001b[0;34m\u001b[0m\u001b[0;34m\u001b[0m\u001b[0m\n\u001b[0m",
      "\u001b[0;32m/var/folders/0z/b69fyzzx0s57g_69wvxdmk1m0000gn/T/ipykernel_27265/828548180.py\u001b[0m in \u001b[0;36mbig_func\u001b[0;34m(best_function_param)\u001b[0m\n\u001b[1;32m     69\u001b[0m \u001b[0;34m\u001b[0m\u001b[0m\n\u001b[1;32m     70\u001b[0m     mimic_best_state, mimic_best_fitness, mimic_fitness_curve = mlrose_hiive.mimic(\n\u001b[0;32m---> 71\u001b[0;31m                                                                                 \u001b[0mproblem\u001b[0m \u001b[0;34m=\u001b[0m \u001b[0mbest_param_value\u001b[0m\u001b[0;34m,\u001b[0m\u001b[0;34m\u001b[0m\u001b[0;34m\u001b[0m\u001b[0m\n\u001b[0m\u001b[1;32m     72\u001b[0m                                                                                 \u001b[0mmax_attempts\u001b[0m \u001b[0;34m=\u001b[0m \u001b[0;36m100\u001b[0m\u001b[0;34m,\u001b[0m\u001b[0;34m\u001b[0m\u001b[0;34m\u001b[0m\u001b[0m\n\u001b[1;32m     73\u001b[0m                                                                                 \u001b[0mmax_iters\u001b[0m \u001b[0;34m=\u001b[0m \u001b[0;36m100\u001b[0m\u001b[0;34m,\u001b[0m\u001b[0;34m\u001b[0m\u001b[0;34m\u001b[0m\u001b[0m\n",
      "\u001b[0;31mNameError\u001b[0m: name 'best_param_value' is not defined"
     ]
    },
    {
     "data": {
      "image/png": "[encoded data removed]",
      "text/plain": [
       "<Figure size 432x288 with 1 Axes>"
      ]
     },
     "metadata": {
      "needs_background": "light"
     },
     "output_type": "display_data"
    }
   ],
   "source": [
    "big_func(one_max_object)"
   ]
  },
  {
   "cell_type": "code",
   "execution_count": null,
   "id": "eb53685d-8c36-40a6-a6a9-23bd0a2bd959",
   "metadata": {},
   "outputs": [],
   "source": []
  },
  {
   "cell_type": "code",
   "execution_count": null,
   "id": "dc6aa6c2-899a-4622-bd67-c631cff5b5bb",
   "metadata": {},
   "outputs": [],
   "source": []
  }
 ],
 "metadata": {
  "kernelspec": {
   "display_name": "Python 3 (ipykernel)",
   "language": "python",
   "name": "python3"
  },
  "language_info": {
   "codemirror_mode": {
    "name": "ipython",
    "version": 3
   },
   "file_extension": ".py",
   "mimetype": "text/x-python",
   "name": "python",
   "nbconvert_exporter": "python",
   "pygments_lexer": "ipython3",
   "version": "3.9.7"
  }
 },
 "nbformat": 4,
 "nbformat_minor": 5
}
