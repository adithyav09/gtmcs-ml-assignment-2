{
 "cells": [
  {
   "cell_type": "markdown",
   "id": "4625a93e-6ba0-4d39-90a8-dd2b805c131e",
   "metadata": {},
   "source": [
    "### Neural Network"
   ]
  },
  {
   "cell_type": "code",
   "execution_count": 1,
   "id": "63f6859c-2cd9-48b7-8d2e-564d5335f538",
   "metadata": {},
   "outputs": [],
   "source": [
    "# import dependencies\n",
    "import matplotlib.pyplot as plt\n",
    "import mlrose_hiive\n",
    "import six\n",
    "import sys\n",
    "sys.modules['sklearn.externals.six'] = six\n",
    "import mlrose\n",
    "import numpy as np\n",
    "import pandas as pd\n",
    "import time\n",
    "import warnings\n",
    "\n",
    "from sklearn.metrics import accuracy_score\n",
    "from sklearn.model_selection import (GridSearchCV, train_test_split, validation_curve)   \n",
    "from sklearn.ensemble import AdaBoostClassifier\n",
    "from sklearn.svm import SVC\n",
    "from sklearn.tree import DecisionTreeClassifier\n",
    "from sklearn.neighbors import KNeighborsClassifier\n",
    "from sklearn.neural_network import MLPClassifier\n",
    "from sklearn import preprocessing\n",
    "\n",
    "np.random.seed(10)"
   ]
  },
  {
   "cell_type": "code",
   "execution_count": 2,
   "id": "57e1d767-2829-4911-ba4f-9484ec6c9862",
   "metadata": {},
   "outputs": [],
   "source": [
    "def load_data(dataset):\n",
    "    # df = pd.read_csv(\"data/\" + dataset, header=None)\n",
    "    df = pd.read_csv(\"data/\" + dataset)\n",
    "    X, y = df.iloc[:, :-1], df.iloc[:, -1]\n",
    "    X_train, X_test, y_train, y_test = train_test_split(X, y, test_size=0.2)\n",
    "\n",
    "    print(\"Dataset Filename: {}\".format(dataset))\n",
    "    print()\n",
    "\n",
    "    print(\"Number of features: {}\".format(len(df.columns) - 1))\n",
    "    print()\n",
    "\n",
    "    print(\"Total Samples: {}\".format(len(df)))\n",
    "    print()\n",
    "    \n",
    "    X_train = preprocessing.scale(X_train)\n",
    "    X_test = preprocessing.scale(X_test)\n",
    "\n",
    "    return X_train, X_test, y_train, y_test"
   ]
  },
  {
   "cell_type": "code",
   "execution_count": 3,
   "id": "e1d593ad-2e5e-4ac5-9ca3-65b5761dcb04",
   "metadata": {},
   "outputs": [],
   "source": [
    "# Load Data\n",
    "smoke_df = pd.read_csv(\"../supervised_learning_assignment/datasets/smoke_detection_iot.csv\")\n",
    "\n",
    "X_train, X_test, y_train, y_test = train_test_split(\n",
    "    smoke_df.drop(['Fire Alarm'], axis=1), # predictive variables\n",
    "    smoke_df['Fire Alarm'], # target\n",
    "    test_size=0.30, # portion of dataset to allocate to test set\n",
    "    random_state=10, # we are setting the seed here\n",
    ")\n",
    "\n",
    "X_train.shape, X_test.shape\n",
    "\n",
    "# Best hyper parameters\n",
    "learning_rate_init = 0.01"
   ]
  },
  {
   "cell_type": "markdown",
   "id": "f56b66f2-50c9-4104-a5c0-dab527254966",
   "metadata": {},
   "source": [
    "### Back Prop"
   ]
  },
  {
   "cell_type": "code",
   "execution_count": 5,
   "id": "558f9830-f4a1-4d83-8898-1c35bde5ac04",
   "metadata": {},
   "outputs": [],
   "source": [
    "clf = mlrose_hiive.NeuralNetwork(hidden_nodes=[5,9], activation=\"tanh\",\n",
    "                           algorithm = 'gradient_descent',early_stopping = True,\n",
    "                           max_attempts = 100, max_iters = 5000,\n",
    "                           bias = True, learning_rate = .01,\n",
    "                           restarts=0, curve = True, random_state=42)\n",
    "\n",
    "\n",
    "start_time = time.time()\n",
    "\n",
    "clf.fit(X_train, y_train)\n",
    "\n",
    "end_time = time.time()\n",
    "\n",
    "base_time = end_time-start_time\n",
    "\n",
    "y_pred = clf.predict(X_test)\n",
    "\n",
    "base_final_score = accuracy_score(y_test, y_pred)\n",
    "\n",
    "gd_fitness_curve = clf.fitness_curve"
   ]
  },
  {
   "cell_type": "markdown",
   "id": "4aec47f4-748f-457b-be50-7b83ddc8cdd2",
   "metadata": {},
   "source": [
    "### Random Hill Climb"
   ]
  },
  {
   "cell_type": "code",
   "execution_count": 6,
   "id": "20d2def4-f567-4486-8f94-a697faafc1e2",
   "metadata": {},
   "outputs": [],
   "source": [
    "clf = mlrose_hiive.NeuralNetwork(hidden_nodes=[5,9], activation='tanh',\n",
    "                           algorithm = 'random_hill_climb', early_stopping = True,\n",
    "                           max_attempts = 100, max_iters = 5000,\n",
    "                           bias = True, learning_rate = .01,\n",
    "                           restarts=0, curve = True, random_state=42)\n",
    "\n",
    "start_time = time.time()\n",
    "\n",
    "clf.fit(X_train, y_train)\n",
    "\n",
    "end_time = time.time()\n",
    "\n",
    "rhc_time = end_time-start_time\n",
    "\n",
    "y_pred = clf.predict(X_test)\n",
    "\n",
    "rhc_final_score = accuracy_score(y_test, y_pred)\n",
    "\n",
    "rhc_fitness_curve = clf.fitness_curve"
   ]
  },
  {
   "cell_type": "markdown",
   "id": "3961a573-c7b8-4b12-a47f-573e7b5634f6",
   "metadata": {},
   "source": [
    "### Simulated Annealing"
   ]
  },
  {
   "cell_type": "code",
   "execution_count": 7,
   "id": "c3910d56-b6d2-42a1-904a-a813cc1a6c93",
   "metadata": {},
   "outputs": [],
   "source": [
    "clf = mlrose_hiive.NeuralNetwork(hidden_nodes=[5,9], activation='tanh',\n",
    "                           algorithm = 'simulated_annealing', early_stopping = True,\n",
    "                           max_attempts = 100, max_iters = 5000,\n",
    "                           bias = True, learning_rate = .01,\n",
    "                           restarts=0, curve = True, random_state=42)\n",
    "start_time = time.time()\n",
    "\n",
    "clf.fit(X_train, y_train)\n",
    "\n",
    "end_time = time.time()\n",
    "\n",
    "sa_time = end_time-start_time\n",
    "\n",
    "y_pred = clf.predict(X_test)\n",
    "\n",
    "sa_final_score = accuracy_score(y_test, y_pred)\n",
    "\n",
    "sa_fitness_curve = clf.fitness_curve"
   ]
  },
  {
   "cell_type": "markdown",
   "id": "769af091-93c1-48bf-8d65-1302a4a438a3",
   "metadata": {},
   "source": [
    "### Genetic Algorithms"
   ]
  },
  {
   "cell_type": "code",
   "execution_count": 8,
   "id": "3daf27b1-01f1-4593-9257-e96ec272456d",
   "metadata": {},
   "outputs": [],
   "source": [
    "clf = mlrose_hiive.NeuralNetwork(hidden_nodes=[5,9], activation='tanh',\n",
    "                           algorithm = 'genetic_alg', early_stopping = True,\n",
    "                           max_attempts = 100, max_iters = 5000,\n",
    "                           bias = True, learning_rate = .0001,\n",
    "                           restarts=0, curve = True, random_state=42)\n",
    "\n",
    "clf.fit(X_train, y_train)\n",
    "\n",
    "start_time = time.time()\n",
    "\n",
    "clf.fit(X_train, y_train)\n",
    "\n",
    "end_time = time.time()\n",
    "\n",
    "ga_time = end_time-start_time\n",
    "\n",
    "y_pred = clf.predict(X_test)\n",
    "\n",
    "ga_final_score = accuracy_score(y_test, y_pred)\n",
    "\n",
    "ga_fitness_curve = clf.fitness_curve"
   ]
  },
  {
   "cell_type": "code",
   "execution_count": 9,
   "id": "48a59a16-d2e0-4eb7-8c5f-272c58bd41ad",
   "metadata": {},
   "outputs": [
    {
     "data": {
      "text/plain": [
       "Text(0, 0.5, 'Loss')"
      ]
     },
     "execution_count": 9,
     "metadata": {},
     "output_type": "execute_result"
    },
    {
     "data": {
      "image/png": "[encoded data removed]",
      "text/plain": [
       "<Figure size 432x288 with 1 Axes>"
      ]
     },
     "metadata": {
      "needs_background": "light"
     },
     "output_type": "display_data"
    }
   ],
   "source": [
    "plt.plot(gd_fitness_curve)\n",
    "plt.xlabel(\"Iterations\")\n",
    "plt.ylabel(\"Loss\")"
   ]
  },
  {
   "cell_type": "code",
   "execution_count": 10,
   "id": "f4097fec-5717-4ead-a345-6f7aa83d99a9",
   "metadata": {},
   "outputs": [
    {
     "data": {
      "text/plain": [
       "Text(0, 0.5, 'Loss')"
      ]
     },
     "execution_count": 10,
     "metadata": {},
     "output_type": "execute_result"
    },
    {
     "data": {
      "image/png": "[encoded data removed]",
      "text/plain": [
       "<Figure size 432x288 with 1 Axes>"
      ]
     },
     "metadata": {
      "needs_background": "light"
     },
     "output_type": "display_data"
    }
   ],
   "source": [
    "plt.plot(rhc_fitness_curve[:, 0])\n",
    "plt.xlabel(\"Iterations\")\n",
    "plt.ylabel(\"Loss\")"
   ]
  },
  {
   "cell_type": "code",
   "execution_count": 11,
   "id": "b4ef94f5-543f-4352-8cc7-aab775dc48f6",
   "metadata": {},
   "outputs": [
    {
     "data": {
      "text/plain": [
       "Text(0, 0.5, 'Loss')"
      ]
     },
     "execution_count": 11,
     "metadata": {},
     "output_type": "execute_result"
    },
    {
     "data": {
      "image/png": "[encoded data removed]",
      "text/plain": [
       "<Figure size 432x288 with 1 Axes>"
      ]
     },
     "metadata": {
      "needs_background": "light"
     },
     "output_type": "display_data"
    }
   ],
   "source": [
    "plt.plot(sa_fitness_curve[:, 0])\n",
    "plt.xlabel(\"Iterations\")\n",
    "plt.ylabel(\"Loss\")"
   ]
  },
  {
   "cell_type": "code",
   "execution_count": 12,
   "id": "ac0b9ed0-7cef-4da4-8cd0-29d07d5bfa4f",
   "metadata": {},
   "outputs": [
    {
     "data": {
      "text/plain": [
       "Text(0, 0.5, 'Loss')"
      ]
     },
     "execution_count": 12,
     "metadata": {},
     "output_type": "execute_result"
    },
    {
     "data": {
      "image/png": "[encoded data removed]",
      "text/plain": [
       "<Figure size 432x288 with 1 Axes>"
      ]
     },
     "metadata": {
      "needs_background": "light"
     },
     "output_type": "display_data"
    }
   ],
   "source": [
    "plt.plot(ga_fitness_curve[:, 0])\n",
    "plt.xlabel(\"Iterations\")\n",
    "plt.ylabel(\"Loss\")"
   ]
  },
  {
   "cell_type": "code",
   "execution_count": 13,
   "id": "84e32408-4888-4782-873b-afecb22d6219",
   "metadata": {},
   "outputs": [
    {
     "data": {
      "text/plain": [
       "4.069315195083618"
      ]
     },
     "execution_count": 13,
     "metadata": {},
     "output_type": "execute_result"
    }
   ],
   "source": [
    "base_time"
   ]
  },
  {
   "cell_type": "code",
   "execution_count": 14,
   "id": "3aca4186-295e-4505-a300-0d342c5e90d1",
   "metadata": {},
   "outputs": [
    {
     "data": {
      "text/plain": [
       "121.30617594718933"
      ]
     },
     "execution_count": 14,
     "metadata": {},
     "output_type": "execute_result"
    }
   ],
   "source": [
    "sa_time"
   ]
  },
  {
   "cell_type": "code",
   "execution_count": 15,
   "id": "5f416bbb-b2dc-40f6-94e4-3fd7309ccd56",
   "metadata": {},
   "outputs": [
    {
     "data": {
      "text/plain": [
       "48.194047927856445"
      ]
     },
     "execution_count": 15,
     "metadata": {},
     "output_type": "execute_result"
    }
   ],
   "source": [
    "rhc_time"
   ]
  },
  {
   "cell_type": "code",
   "execution_count": 16,
   "id": "82592811-b505-4cff-a052-2d3367e1f1fe",
   "metadata": {},
   "outputs": [
    {
     "data": {
      "text/plain": [
       "242.72805094718933"
      ]
     },
     "execution_count": 16,
     "metadata": {},
     "output_type": "execute_result"
    }
   ],
   "source": [
    "ga_time"
   ]
  },
  {
   "cell_type": "code",
   "execution_count": null,
   "id": "3d6e6a1e-f270-47a0-b33d-8126af82054b",
   "metadata": {},
   "outputs": [],
   "source": []
  }
 ],
 "metadata": {
  "kernelspec": {
   "display_name": "Python 3 (ipykernel)",
   "language": "python",
   "name": "python3"
  },
  "language_info": {
   "codemirror_mode": {
    "name": "ipython",
    "version": 3
   },
   "file_extension": ".py",
   "mimetype": "text/x-python",
   "name": "python",
   "nbconvert_exporter": "python",
   "pygments_lexer": "ipython3",
   "version": "3.9.7"
  }
 },
 "nbformat": 4,
 "nbformat_minor": 5
}
