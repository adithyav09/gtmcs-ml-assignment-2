{
 "cells": [
  {
   "cell_type": "markdown",
   "id": "5ef76834-aea1-4e42-aef7-38d1ba7dce9e",
   "metadata": {},
   "source": [
    "# Randomized Optimization Assignment #2\n",
    "---\n",
    "\n",
    "## Requirements:\n",
    "- Give a thorough analysis of your findings\n",
    "- Program in any language desired (Python in this case)\n",
    "- Must provide any files in README.txt to ensure reproducibility and support explanations to any changes\n",
    "\n",
    "Acceptable libraries for machine learning are scikit-learn, tensorflow, pytorch. For python are numpy and scipy. For plotting are matplotlib and seaborn.\n",
    "\n",
    "#### Algorithms to implement\n",
    "- randomized hill climbing\n",
    "- simulated annealing\n",
    "- a genetic algorithm\n",
    "- MIMIC\n",
    "\n",
    "#### Organization Problems:\n",
    "- FlipFlop\n",
    "- OneMax\n",
    "- Queens\n",
    "\n",
    "#### Must submit\n",
    "1. a file named **README.txt** containing instructions for running your code (see note below). You will want to arrange for an URL of some sort for code in the file.\n",
    "2. a file named **yourgtaccount-analysis.pdf** containing your writeup (GT account is what you log in with, not your all-digits ID)\n",
    "---"
   ]
  },
  {
   "cell_type": "code",
   "execution_count": 24,
   "id": "68a586d9-22db-453c-aa15-069ae3226b97",
   "metadata": {},
   "outputs": [],
   "source": [
    "# import dependencies\n",
    "import numpy\n",
    "import sklearn\n",
    "import seaborn\n",
    "import six\n",
    "import sys\n",
    "sys.modules['sklearn.externals.six'] = six\n",
    "import mlrose\n",
    "import time\n",
    "import pandas as pd\n",
    "import matplotlib.pyplot as plt\n",
    "import seaborn as sns\n",
    "\n",
    "\n",
    "# to divide train and test set\n",
    "from sklearn.model_selection import train_test_split"
   ]
  },
  {
   "cell_type": "code",
   "execution_count": 3,
   "id": "d82ad258-384d-4ddd-9f2c-b802d1311763",
   "metadata": {},
   "outputs": [],
   "source": [
    "df = pd.read_csv(\"../supervised_learning_assignment/datasets/smoke_detection_iot.csv\")"
   ]
  },
  {
   "cell_type": "code",
   "execution_count": 4,
   "id": "e5be569c-7b5d-4531-906c-c3c1d25b4b7f",
   "metadata": {},
   "outputs": [
    {
     "data": {
      "text/html": [
       "<div>\n",
       "<style scoped>\n",
       "    .dataframe tbody tr th:only-of-type {\n",
       "        vertical-align: middle;\n",
       "    }\n",
       "\n",
       "    .dataframe tbody tr th {\n",
       "        vertical-align: top;\n",
       "    }\n",
       "\n",
       "    .dataframe thead th {\n",
       "        text-align: right;\n",
       "    }\n",
       "</style>\n",
       "<table border=\"1\" class=\"dataframe\">\n",
       "  <thead>\n",
       "    <tr style=\"text-align: right;\">\n",
       "      <th></th>\n",
       "      <th>Unnamed: 0</th>\n",
       "      <th>UTC</th>\n",
       "      <th>Temperature[C]</th>\n",
       "      <th>Humidity[%]</th>\n",
       "      <th>TVOC[ppb]</th>\n",
       "      <th>eCO2[ppm]</th>\n",
       "      <th>Raw H2</th>\n",
       "      <th>Raw Ethanol</th>\n",
       "      <th>Pressure[hPa]</th>\n",
       "      <th>PM1.0</th>\n",
       "      <th>PM2.5</th>\n",
       "      <th>NC0.5</th>\n",
       "      <th>NC1.0</th>\n",
       "      <th>NC2.5</th>\n",
       "      <th>CNT</th>\n",
       "      <th>Fire Alarm</th>\n",
       "    </tr>\n",
       "  </thead>\n",
       "  <tbody>\n",
       "    <tr>\n",
       "      <th>0</th>\n",
       "      <td>0</td>\n",
       "      <td>1654733331</td>\n",
       "      <td>20.000</td>\n",
       "      <td>57.36</td>\n",
       "      <td>0</td>\n",
       "      <td>400</td>\n",
       "      <td>12306</td>\n",
       "      <td>18520</td>\n",
       "      <td>939.735</td>\n",
       "      <td>0.0</td>\n",
       "      <td>0.0</td>\n",
       "      <td>0.0</td>\n",
       "      <td>0.0</td>\n",
       "      <td>0.0</td>\n",
       "      <td>0</td>\n",
       "      <td>0</td>\n",
       "    </tr>\n",
       "    <tr>\n",
       "      <th>1</th>\n",
       "      <td>1</td>\n",
       "      <td>1654733332</td>\n",
       "      <td>20.015</td>\n",
       "      <td>56.67</td>\n",
       "      <td>0</td>\n",
       "      <td>400</td>\n",
       "      <td>12345</td>\n",
       "      <td>18651</td>\n",
       "      <td>939.744</td>\n",
       "      <td>0.0</td>\n",
       "      <td>0.0</td>\n",
       "      <td>0.0</td>\n",
       "      <td>0.0</td>\n",
       "      <td>0.0</td>\n",
       "      <td>1</td>\n",
       "      <td>0</td>\n",
       "    </tr>\n",
       "    <tr>\n",
       "      <th>2</th>\n",
       "      <td>2</td>\n",
       "      <td>1654733333</td>\n",
       "      <td>20.029</td>\n",
       "      <td>55.96</td>\n",
       "      <td>0</td>\n",
       "      <td>400</td>\n",
       "      <td>12374</td>\n",
       "      <td>18764</td>\n",
       "      <td>939.738</td>\n",
       "      <td>0.0</td>\n",
       "      <td>0.0</td>\n",
       "      <td>0.0</td>\n",
       "      <td>0.0</td>\n",
       "      <td>0.0</td>\n",
       "      <td>2</td>\n",
       "      <td>0</td>\n",
       "    </tr>\n",
       "    <tr>\n",
       "      <th>3</th>\n",
       "      <td>3</td>\n",
       "      <td>1654733334</td>\n",
       "      <td>20.044</td>\n",
       "      <td>55.28</td>\n",
       "      <td>0</td>\n",
       "      <td>400</td>\n",
       "      <td>12390</td>\n",
       "      <td>18849</td>\n",
       "      <td>939.736</td>\n",
       "      <td>0.0</td>\n",
       "      <td>0.0</td>\n",
       "      <td>0.0</td>\n",
       "      <td>0.0</td>\n",
       "      <td>0.0</td>\n",
       "      <td>3</td>\n",
       "      <td>0</td>\n",
       "    </tr>\n",
       "    <tr>\n",
       "      <th>4</th>\n",
       "      <td>4</td>\n",
       "      <td>1654733335</td>\n",
       "      <td>20.059</td>\n",
       "      <td>54.69</td>\n",
       "      <td>0</td>\n",
       "      <td>400</td>\n",
       "      <td>12403</td>\n",
       "      <td>18921</td>\n",
       "      <td>939.744</td>\n",
       "      <td>0.0</td>\n",
       "      <td>0.0</td>\n",
       "      <td>0.0</td>\n",
       "      <td>0.0</td>\n",
       "      <td>0.0</td>\n",
       "      <td>4</td>\n",
       "      <td>0</td>\n",
       "    </tr>\n",
       "  </tbody>\n",
       "</table>\n",
       "</div>"
      ],
      "text/plain": [
       "   Unnamed: 0         UTC  Temperature[C]  Humidity[%]  TVOC[ppb]  eCO2[ppm]  \\\n",
       "0           0  1654733331          20.000        57.36          0        400   \n",
       "1           1  1654733332          20.015        56.67          0        400   \n",
       "2           2  1654733333          20.029        55.96          0        400   \n",
       "3           3  1654733334          20.044        55.28          0        400   \n",
       "4           4  1654733335          20.059        54.69          0        400   \n",
       "\n",
       "   Raw H2  Raw Ethanol  Pressure[hPa]  PM1.0  PM2.5  NC0.5  NC1.0  NC2.5  CNT  \\\n",
       "0   12306        18520        939.735    0.0    0.0    0.0    0.0    0.0    0   \n",
       "1   12345        18651        939.744    0.0    0.0    0.0    0.0    0.0    1   \n",
       "2   12374        18764        939.738    0.0    0.0    0.0    0.0    0.0    2   \n",
       "3   12390        18849        939.736    0.0    0.0    0.0    0.0    0.0    3   \n",
       "4   12403        18921        939.744    0.0    0.0    0.0    0.0    0.0    4   \n",
       "\n",
       "   Fire Alarm  \n",
       "0           0  \n",
       "1           0  \n",
       "2           0  \n",
       "3           0  \n",
       "4           0  "
      ]
     },
     "execution_count": 4,
     "metadata": {},
     "output_type": "execute_result"
    }
   ],
   "source": [
    "df.head()"
   ]
  },
  {
   "cell_type": "code",
   "execution_count": 5,
   "id": "0895ab49-4dc9-4f5c-8a15-3e7bbc4c8c07",
   "metadata": {},
   "outputs": [],
   "source": [
    "# funciton will get the rows and colums of the dataset\n",
    "def getDimensions(df):\n",
    "    print(\"The dataframe has\", df.shape[0], \"rows and\", df.shape[1], \"columns\")"
   ]
  },
  {
   "cell_type": "code",
   "execution_count": 6,
   "id": "6d7cb699-57c7-4856-9215-2a5c0efc2eb7",
   "metadata": {},
   "outputs": [],
   "source": [
    "# formatting the data to make sure there are no mismatches in data types\n",
    "# the categorical variables are defined with the datatype of \"object\"\n",
    "def formatData(df):\n",
    "    datatypes_lst = df.dtypes.to_list()\n",
    "    features_lst = df.columns.to_list()\n",
    "    dictionary = dict(zip(features_lst, datatypes_lst))\n",
    "    \n",
    "    formatColumns = []\n",
    "    for keys, values in dictionary.items():\n",
    "        if values == \"object\":\n",
    "            formatColumns.append(keys)\n",
    "    \n",
    "    if len(formatColumns) == 0:\n",
    "        return \"There is nothing to format\"\n",
    "    \n",
    "    return formatColumns"
   ]
  },
  {
   "cell_type": "code",
   "execution_count": 7,
   "id": "83cfd4fc-085f-49f7-8baa-245e391f85b7",
   "metadata": {},
   "outputs": [],
   "source": [
    "def null_values(df):\n",
    "    feature_with_na = [feature for feature in df.columns if df[feature].isnull().sum() > 0]\n",
    "    if features_with_na == 0:\n",
    "        return \"No null values\""
   ]
  },
  {
   "cell_type": "code",
   "execution_count": 8,
   "id": "a53c5f98-c897-4cdf-9c12-e2976aae31c3",
   "metadata": {},
   "outputs": [],
   "source": [
    "# outliers function to get the indices of data that don't fit in the bounds (are outliers)\n",
    "def outliers(df, features):\n",
    "    Q1 = df[features].quantile(0.25)\n",
    "    Q3 = df[features].quantile(0.75)\n",
    "    IQR = Q3 - Q1\n",
    "    \n",
    "    lower_bound = Q1 - 1.5 * IQR\n",
    "    upper_bound = Q3 + 1.5 * IQR\n",
    "    \n",
    "    ls = df.index[ (df[features] < lower_bound) | (df[features] > upper_bound) ]\n",
    "    \n",
    "    return ls"
   ]
  },
  {
   "cell_type": "code",
   "execution_count": 9,
   "id": "c86c6f3a-72ac-4a78-afb7-b0a01fef0003",
   "metadata": {},
   "outputs": [],
   "source": [
    "#define remove function that returns cleaned dataframe without the outliers\n",
    "def remove(df, ls):\n",
    "    ls = sorted(set(ls))\n",
    "    df = df.drop(ls)\n",
    "    return df"
   ]
  },
  {
   "cell_type": "code",
   "execution_count": 10,
   "id": "1a84d3df-938f-4f65-87a6-ff3c28e12bab",
   "metadata": {},
   "outputs": [
    {
     "name": "stdout",
     "output_type": "stream",
     "text": [
      "The dataframe has 62630 rows and 16 columns\n"
     ]
    }
   ],
   "source": [
    "getDimensions(df)"
   ]
  },
  {
   "cell_type": "code",
   "execution_count": 11,
   "id": "0bdb3dca-2b7a-41f4-9c6a-22baf7b19916",
   "metadata": {},
   "outputs": [
    {
     "data": {
      "text/plain": [
       "'There is nothing to format'"
      ]
     },
     "execution_count": 11,
     "metadata": {},
     "output_type": "execute_result"
    }
   ],
   "source": [
    "formatData(df)"
   ]
  },
  {
   "cell_type": "code",
   "execution_count": 23,
   "id": "85def7cd-1ab0-4ee8-b656-4b62b5dce8a4",
   "metadata": {},
   "outputs": [],
   "source": [
    "# null_values(df)"
   ]
  },
  {
   "cell_type": "code",
   "execution_count": 15,
   "id": "dabdf413-cbbb-416c-96b8-09dd85ca34fd",
   "metadata": {},
   "outputs": [],
   "source": [
    "X, y = df.drop(columns=\"Fire Alarm\"), df[\"Fire Alarm\"]"
   ]
  },
  {
   "cell_type": "code",
   "execution_count": 16,
   "id": "24896c69-7b42-4d86-beae-52bc15bbfcd6",
   "metadata": {},
   "outputs": [
    {
     "data": {
      "text/plain": [
       "((56367, 15), (6263, 15))"
      ]
     },
     "execution_count": 16,
     "metadata": {},
     "output_type": "execute_result"
    }
   ],
   "source": [
    "X_train, X_test, y_train, y_test = train_test_split(\n",
    "    df.drop(['Fire Alarm'], axis=1), # predictive variables\n",
    "    df['Fire Alarm'], # target\n",
    "    test_size=0.1, # portion of dataset to allocate to test set\n",
    "    random_state=10, # we are setting the seed here\n",
    ")\n",
    "\n",
    "X_train.shape, X_test.shape"
   ]
  },
  {
   "cell_type": "code",
   "execution_count": 17,
   "id": "87ebdc92-a42f-44d0-aa5e-ebb7f3846a89",
   "metadata": {},
   "outputs": [],
   "source": [
    "fitness_functions = [mlrose.FlipFlop(), mlrose.OneMax(), mlrose.Queens()]\n",
    "max_iterations_list = [1,10,100,100]\n",
    "restarts_list = [0,15,30,45,50,65,80,95]"
   ]
  },
  {
   "cell_type": "markdown",
   "id": "bcc74472-f65a-4ff9-b2a8-1c6cc6163e03",
   "metadata": {},
   "source": [
    "### Random Hill Climbing"
   ]
  },
  {
   "cell_type": "code",
   "execution_count": 18,
   "id": "535f30bd-ee4e-4f1e-9d06-024e1978a015",
   "metadata": {},
   "outputs": [
    {
     "name": "stdout",
     "output_type": "stream",
     "text": [
      "Searching for best hyperparam for Random Hill Climbing algorithm: <mlrose.fitness.FlipFlop object at 0x7fdb13e27a90>\n",
      "These are the best Random Hill Climbing parameters for <mlrose.fitness.FlipFlop object at 0x7fdb13e27a90> = 95\n",
      "Searching for best hyperparam for Random Hill Climbing algorithm: <mlrose.fitness.OneMax object at 0x7fdb13e39670>\n",
      "These are the best Random Hill Climbing parameters for <mlrose.fitness.OneMax object at 0x7fdb13e39670> = 95\n",
      "Searching for best hyperparam for Random Hill Climbing algorithm: <mlrose.fitness.Queens object at 0x7fdb13e396d0>\n",
      "These are the best Random Hill Climbing parameters for <mlrose.fitness.Queens object at 0x7fdb13e396d0> = 95\n"
     ]
    }
   ],
   "source": [
    "best_restart_param = None\n",
    "best_restart_fitness_value = None\n",
    "\n",
    "for func in fitness_functions:\n",
    "    fitness_function = func\n",
    "    print(f\"Searching for best hyperparam for Random Hill Climbing algorithm: {str(fitness_function)}\")\n",
    "    for iterations in max_iterations_list:\n",
    "        for i in restarts_list:\n",
    "            problem = mlrose.DiscreteOpt(length=100, fitness_fn=fitness_function, maximize=True)\n",
    "            rhc_best_state, rhc_best_fitness = mlrose.random_hill_climb(problem, \n",
    "                                                                       max_attempts=10, \n",
    "                                                                       max_iters=iterations, \n",
    "                                                                       restarts=i,\n",
    "                                                                       init_state=None, \n",
    "                                                                       curve=True, \n",
    "                                                                       random_state=10)\n",
    "        if not best_restart_fitness_value:\n",
    "            best_restart_param = i\n",
    "            best_restart_fitness_value = rhc_best_fitness\n",
    "        elif rhc_best_fitness > best_restart_fitness_value:\n",
    "            best_restart_param = i\n",
    "            best_restart_fitness_value = rhc_best_fitness\n",
    "    print(f\"These are the best Random Hill Climbing parameters for {func} = {str(best_restart_param)}\")\n",
    "\n",
    "# run best function parrameter\n",
    "random_hill_clib(str(best_restart_param))"
   ]
  },
  {
   "cell_type": "markdown",
   "id": "f573a00d-6aae-4def-afa8-479ca8a1b3df",
   "metadata": {},
   "source": [
    "### Simulated Annealing"
   ]
  },
  {
   "cell_type": "code",
   "execution_count": 19,
   "id": "dd44c164-fde1-429c-b8fd-3d03280370c4",
   "metadata": {},
   "outputs": [
    {
     "name": "stdout",
     "output_type": "stream",
     "text": [
      "Find best SA hyperparam for <mlrose.fitness.FlipFlop object at 0x7fdb13e27a90>\n"
     ]
    },
    {
     "name": "stderr",
     "output_type": "stream",
     "text": [
      "/Users/adithyavenkatesh/opt/anaconda3/lib/python3.9/site-packages/mlrose/algorithms.py:311: RuntimeWarning: overflow encountered in exp\n",
      "  prob = np.exp(delta_e/temp)\n"
     ]
    },
    {
     "name": "stdout",
     "output_type": "stream",
     "text": [
      "Best SA parameters for <mlrose.fitness.FlipFlop object at 0x7fdb13e27a90> = (16, 0.8, 0.001)\n",
      "Find best SA hyperparam for <mlrose.fitness.OneMax object at 0x7fdb13e39670>\n",
      "Best SA parameters for <mlrose.fitness.OneMax object at 0x7fdb13e39670> = (1, 0.1, 0.001)\n",
      "Find best SA hyperparam for <mlrose.fitness.Queens object at 0x7fdb13e396d0>\n",
      "Best SA parameters for <mlrose.fitness.Queens object at 0x7fdb13e396d0> = (1, 0.1, 0.001)\n"
     ]
    }
   ],
   "source": [
    "# SA Tuning\n",
    "import itertools\n",
    "\n",
    "# init_temp, decay, min_temp\n",
    "sa_hyperparams = [\n",
    "   [1, 2, 4, 8, 16, 32, 64],\n",
    "   [0.1, 0.2, 0.4, 0.8],\n",
    "   [0.001, 0.01, 0.1, 1]\n",
    "]\n",
    "\n",
    "best_param = None\n",
    "best_fitness_value = None\n",
    "for func in fitness_functions:\n",
    "    fitness_function = func\n",
    "    print(\"Find best SA hyperparam for {}\".format(str(fitness_function)))\n",
    "    for iterations in max_iterations_list:\n",
    "        for i in itertools.product(*sa_hyperparams):\n",
    "            problem = mlrose.DiscreteOpt(length=100, fitness_fn=fitness_function, maximize=True)\n",
    "            decay = mlrose.GeomDecay(init_temp = i[0], decay=i[1], min_temp=i[2])\n",
    "            sa_best_state, sa_best_fitness, sa_fitness_curve = mlrose.simulated_annealing(\n",
    "                                                        problem, \n",
    "                                                        max_attempts=200, \n",
    "                                                        max_iters=iterations, \n",
    "                                                        curve=True, \n",
    "                                                        random_state=10,\n",
    "                                                        schedule=decay)\n",
    "        if not best_fitness_value:\n",
    "            best_param = i\n",
    "            best_fitness_value = sa_best_fitness\n",
    "        elif sa_best_fitness > best_fitness_value:\n",
    "            best_param = i\n",
    "            best_fitness_value = sa_best_fitness\n",
    "    print(\"Best SA parameters for {} = {}\".format(func, str(best_param)))"
   ]
  },
  {
   "cell_type": "markdown",
   "id": "ffb9fa06-a5f6-4927-9848-66bb7cf78d01",
   "metadata": {},
   "source": [
    "### Genetic Algorithms"
   ]
  },
  {
   "cell_type": "code",
   "execution_count": 21,
   "id": "9c1748ca-404b-4859-8d92-4f9319653c35",
   "metadata": {},
   "outputs": [
    {
     "name": "stdout",
     "output_type": "stream",
     "text": [
      "Find best GA hyperparam for <mlrose.fitness.FlipFlop object at 0x7fdb13e27a90>\n",
      "Best parameters for <mlrose.fitness.FlipFlop object at 0x7fdb13e27a90> = (400, 0.4)\n",
      "Find best GA hyperparam for <mlrose.fitness.OneMax object at 0x7fdb13e39670>\n",
      "Best parameters for <mlrose.fitness.OneMax object at 0x7fdb13e39670> = (400, 0.2)\n",
      "Find best GA hyperparam for <mlrose.fitness.Queens object at 0x7fdb13e396d0>\n",
      "Best parameters for <mlrose.fitness.Queens object at 0x7fdb13e396d0> = (400, 0.2)\n"
     ]
    }
   ],
   "source": [
    "# GA Tuning\n",
    "\n",
    "import itertools\n",
    "\n",
    "# init_temp, decay, min_temp\n",
    "ga_hyperparams = [\n",
    "   [100, 200, 400],\n",
    "   [0.2, 0.4, 0.8]\n",
    "]\n",
    "\n",
    "best_param = None\n",
    "best_fitness_value = None\n",
    "for func in fitness_functions:\n",
    "    fitness_function = func\n",
    "    print(\"Find best GA hyperparam for {}\".format(str(fitness_function)))\n",
    "    best_param = None\n",
    "    best_fitness_value = None\n",
    "    for i in itertools.product(*ga_hyperparams):\n",
    "        problem = mlrose.DiscreteOpt(length=100, fitness_fn=fitness_function, maximize=True)\n",
    "        ga_best_state, ga_best_fitness, ga_fitness_curve = mlrose.genetic_alg(\n",
    "                                                    problem, \n",
    "                                                    max_attempts=500, \n",
    "                                                    max_iters=500, \n",
    "                                                    curve=True, \n",
    "                                                    random_state=10,\n",
    "                                                    pop_size=i[0],\n",
    "                                                    mutation_prob=i[1])\n",
    "        if not best_fitness_value:\n",
    "            best_param = i\n",
    "            best_fitness_value = ga_best_fitness\n",
    "        elif ga_best_fitness > best_fitness_value:\n",
    "            best_param = i\n",
    "            best_fitness_value = ga_best_fitness\n",
    "    print(\"Best parameters for {} = {}\".format(func, str(best_param)))"
   ]
  },
  {
   "cell_type": "markdown",
   "id": "e9532e5b-a1ac-4810-8f08-563698c930e5",
   "metadata": {},
   "source": [
    "### MIMIC Algorithm"
   ]
  },
  {
   "cell_type": "code",
   "execution_count": 22,
   "id": "8df2138a-a703-4c8d-893a-a347afe13dd9",
   "metadata": {},
   "outputs": [
    {
     "name": "stdout",
     "output_type": "stream",
     "text": [
      "Find best MIMIC hyperparam for <mlrose.fitness.FlipFlop object at 0x7fdb13e27a90>\n",
      "Best parameters for <mlrose.fitness.FlipFlop object at 0x7fdb13e27a90> = 0.25\n",
      "Find best MIMIC hyperparam for <mlrose.fitness.OneMax object at 0x7fdb13e39670>\n",
      "Best parameters for <mlrose.fitness.OneMax object at 0x7fdb13e39670> = 0.25\n",
      "Find best MIMIC hyperparam for <mlrose.fitness.Queens object at 0x7fdb13e396d0>\n",
      "Best parameters for <mlrose.fitness.Queens object at 0x7fdb13e396d0> = 0.25\n"
     ]
    }
   ],
   "source": [
    "# MIMIC Tuning\n",
    "best_param = None\n",
    "best_fitness_value = None\n",
    "for func in fitness_functions:\n",
    "    fitness_function = func\n",
    "    print(\"Find best MIMIC hyperparam for {}\".format(str(fitness_function)))\n",
    "    best_param = None\n",
    "    best_fitness_value = None\n",
    "    for i in [0.25, 0.5, 0.75]:\n",
    "        problem = mlrose.DiscreteOpt(length=100, fitness_fn=fitness_function, maximize=True)\n",
    "        mimic_best_state, mimic_best_fitness, mimic_fitness_curve = mlrose.mimic(\n",
    "                                                            problem, \n",
    "                                                            max_attempts = 100, \n",
    "                                                            max_iters = 100,  \n",
    "                                                            curve = True, \n",
    "                                                            random_state = 10)\n",
    "        if not best_fitness_value:\n",
    "            best_param = i\n",
    "            best_fitness_value = mimic_best_fitness\n",
    "        elif mimic_best_fitness > best_fitness_value:\n",
    "            best_param = i\n",
    "            best_fitness_value = mimic_best_fitness\n",
    "    print(\"Best parameters for {} = {}\".format(func, str(best_param)))"
   ]
  },
  {
   "cell_type": "markdown",
   "id": "f38a26e1-5a6c-415a-a64b-19f115a9f286",
   "metadata": {},
   "source": [
    "Section 1\n",
    "PLOTS REQUIRED:\n",
    "- fitness score per iteration plot (convergence plot)\n",
    "- a big part of the assignment is actually setting convergence criteria and analyzing convergence conditions, and how an algorithm is converging.\n",
    "    - Varying the problem size (Wall clock time??)\n",
    "    - Wall clock time\n",
    "    - function evaluation\n",
    "\n",
    "Section 2\n",
    "    Compare backprop for NN to Randomized hill climbing, simulated, kneeling or essay and genetic algorithms\n",
    "    Reuse NN \n",
    "        - keep parameters\n",
    "        - Instead of using backprop, you use one of the randomized opt algo\n",
    "\n",
    "- include a learning curve to compare the results\n",
    "- include wall clock time too"
   ]
  },
  {
   "cell_type": "code",
   "execution_count": 28,
   "id": "b6d401bd-73c4-433e-9baa-c128dffb9101",
   "metadata": {},
   "outputs": [],
   "source": [
    "from skopt import gp_minimize"
   ]
  },
  {
   "cell_type": "code",
   "execution_count": null,
   "id": "58bfeb10-a3f6-47dc-bf04-59512830fd94",
   "metadata": {},
   "outputs": [],
   "source": [
    "plot_converge()"
   ]
  },
  {
   "cell_type": "code",
   "execution_count": 38,
   "id": "05b6720c-e1a6-4997-a736-dacb6c9f4566",
   "metadata": {},
   "outputs": [
    {
     "name": "stdout",
     "output_type": "stream",
     "text": [
      "Running Experiments for Four Peaks Problem\n",
      "\n",
      "Running Random Hill Climb Experiment\n",
      "Time (s): 0.11872005462646484\n",
      "\n"
     ]
    }
   ],
   "source": [
    "print(\"Running Experiments for Four Peaks Problem\")\n",
    "print()\n",
    "def rhc(best_function_param):\n",
    "    # Define Fitness function and discrete problem object\n",
    "    fitness = mlrose.FourPeaks()\n",
    "    problem = mlrose.DiscreteOpt(length=100, fitness_fn=fitness, maximize=True)\n",
    "\n",
    "    max_attempts = 100\n",
    "    max_iters = 100\n",
    "    # RHC\n",
    "    print(\"Running Random Hill Climb Experiment\")\n",
    "    start_time = time.time()\n",
    "    rhc_best_state, rhc_best_fitness, rhc_fitness_curve = mlrose.random_hill_climb(problem, \n",
    "                                                                                   max_attempts = max_attempts, \n",
    "                                                                                   max_iters=max_iters, \n",
    "                                                                                   curve=True, \n",
    "                                                                                   random_state=42,\n",
    "                                                                                   restarts=100)\n",
    "    end_time = time.time()\n",
    "    rhc_time = end_time - start_time\n",
    "    print(\"Time (s): {}\".format(rhc_time))\n",
    "    print()\n",
    "rhc(97)"
   ]
  },
  {
   "cell_type": "code",
   "execution_count": 39,
   "id": "8c1eb8a5-eb2e-459f-997a-384b3407296e",
   "metadata": {},
   "outputs": [
    {
     "name": "stdout",
     "output_type": "stream",
     "text": [
      "Running Simulated Annealing Experiment\n",
      "Time (s): 0.003523111343383789\n",
      "\n"
     ]
    }
   ],
   "source": [
    "def simulated_annealing(best_function_param):\n",
    "    # SA\n",
    "    print(\"Running Simulated Annealing Experiment\")\n",
    "    start_time = time.time()\n",
    "    sa_best_state, sa_best_fitness, sa_fitness_curve = mlrose.simulated_annealing(\n",
    "                                                        problem, \n",
    "                                                        max_attempts=max_attempts, \n",
    "                                                        max_iters=max_iters, \n",
    "                                                        curve=True, \n",
    "                                                        random_state=42,\n",
    "                                                        schedule=mlrose.GeomDecay(init_temp = 1, decay=0.1, min_temp=1))\n",
    "    end_time = time.time()\n",
    "    sa_time = end_time - start_time\n",
    "    print(\"Time (s): {}\".format(sa_time))\n",
    "    print()\n",
    "\n",
    "simulated_annealing(97)"
   ]
  },
  {
   "cell_type": "code",
   "execution_count": null,
   "id": "3d25f0ed-0b12-4d99-8b8c-cd063281cc7f",
   "metadata": {},
   "outputs": [],
   "source": [
    "def fa(best_function_param):\n",
    "    # GA\n",
    "    print(\"Running Genetic Algorithm Experiment\")\n",
    "    start_time = time.time()\n",
    "    ga_best_state, ga_best_fitness, ga_fitness_curve = mlrose.genetic_alg(\n",
    "                                                        problem, \n",
    "                                                        max_attempts=max_attempts, \n",
    "                                                        max_iters=max_iters, \n",
    "                                                        curve=True, \n",
    "                                                        random_state=42,\n",
    "                                                        pop_size=200,\n",
    "                                                        mutation_prob=0.2)\n",
    "    end_time = time.time()\n",
    "    ga_time = end_time - start_time\n",
    "    print(\"Time (s): {}\".format(ga_time))\n",
    "    print()"
   ]
  },
  {
   "cell_type": "code",
   "execution_count": null,
   "id": "0df2d21a-5391-4c56-ba9e-b648bfc6db9b",
   "metadata": {},
   "outputs": [
    {
     "name": "stdout",
     "output_type": "stream",
     "text": [
      "Running MIMIC Algorithm Experiment\n"
     ]
    }
   ],
   "source": [
    "def mimic(best_param_value):\n",
    "    # MIMIC\n",
    "    print(\"Running MIMIC Algorithm Experiment\")\n",
    "    start_time = time.time()\n",
    "    mimic_best_state, mimic_best_fitness, mimic_fitness_curve = mlrose.mimic(\n",
    "                                                                problem, \n",
    "                                                                max_attempts = 100, \n",
    "                                                                max_iters = 100,  \n",
    "                                                                curve = True, \n",
    "                                                                random_state = 42,\n",
    "                                                                keep_pct=0.25)\n",
    "    end_time = time.time()\n",
    "    mimic_time = end_time - start_time\n",
    "    print(\"Time (s): {}\".format(mimic_time))\n",
    "    print()\n",
    "mimic(97)"
   ]
  },
  {
   "cell_type": "code",
   "execution_count": null,
   "id": "cb90bb35-cb2e-4e10-9054-e5f8a6995cb4",
   "metadata": {},
   "outputs": [],
   "source": [
    "# Plot Iterations vs Fitness\n",
    "iterations = range(1, max_iters + 1)\n",
    "plt.plot(iterations, rhc_fitness_curve, label='RHC', color='green')\n",
    "plt.plot(iterations, sa_fitness_curve, label='SA', color='red')\n",
    "plt.plot(iterations, ga_fitness_curve, label='GA', color='blue')\n",
    "plt.plot(iterations, mimic_fitness_curve, label='MIMIC', color='orange')\n",
    "plt.legend(loc=\"best\")\n",
    "plt.xlabel(\"Iterations\")\n",
    "plt.ylabel(\"Fitness\")\n",
    "plt.savefig(\"results/fourpeaks_fitness.png\")\n",
    "\n",
    "# Plot Time Table\n",
    "# https://www.geeksforgeeks.org/creating-a-pandas-dataframe-using-list-of-tuples/\n",
    "data = [('RHC', round(rhc_time, 5)), \n",
    "        ('SA', round(sa_time, 5)), \n",
    "        ('GA', round(ga_time, 5)), \n",
    "        ('MIMIC', round(mimic_time, 5))] \n",
    "\n",
    "df = pd.DataFrame(data, columns =['Algorithm', 'Time (s)']) \n",
    "dfi.export(df,\"results/fourpeaks_times.png\")"
   ]
  },
  {
   "cell_type": "code",
   "execution_count": null,
   "id": "84983b46-c7a4-483f-a01a-872ab5585b4c",
   "metadata": {},
   "outputs": [],
   "source": []
  }
 ],
 "metadata": {
  "kernelspec": {
   "display_name": "Python 3 (ipykernel)",
   "language": "python",
   "name": "python3"
  },
  "language_info": {
   "codemirror_mode": {
    "name": "ipython",
    "version": 3
   },
   "file_extension": ".py",
   "mimetype": "text/x-python",
   "name": "python",
   "nbconvert_exporter": "python",
   "pygments_lexer": "ipython3",
   "version": "3.9.7"
  }
 },
 "nbformat": 4,
 "nbformat_minor": 5
}
